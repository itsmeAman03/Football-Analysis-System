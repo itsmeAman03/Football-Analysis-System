{
 "cells": [
  {
   "cell_type": "markdown",
   "metadata": {},
   "source": [
    "## ⚽ Football Object Detection using YOLOv11-Large\n",
    "\n",
    "This model is designed to detect key entities on a football field:  \n",
    "- 🧤 **Goalkeeper**  \n",
    "- 🧍 **Player**  \n",
    "- ⚪ **Ball**  \n",
    "- 🧑‍⚖️ **Referee**\n",
    "\n",
    "Built on the powerful **YOLOv11-Large** architecture with transfer learning, the first half of the layers were frozen to retain general features while fine-tuning the rest on football-specific data.\n",
    "\n",
    "---\n",
    "\n",
    "### 🔧 Configuration\n",
    "\n",
    "- **Architecture**: YOLOv11-Large\n",
    "- **Frozen Layers**: First half\n",
    "- **Pre-trained Weights**: Used\n",
    "- **Epochs Trained**: 50\n",
    "- **Learning Rate**: ~3.73e-5 (pg0/pg1/pg2)\n",
    "- **Train Duration**: 539 minutes\n",
    "- **Model Size**: 25.3M parameters, 87.3 GFLOPs\n",
    "\n",
    "---\n",
    "\n",
    "### 📊 Evaluation Metrics\n",
    "\n",
    "> *Values are reported as: Final / Best during training*\n",
    "\n",
    "| Metric                     | Final      | Best (Min)    |\n",
    "|----------------------------|------------|---------------|\n",
    "| **mAP@50-95 (val)**        | 0.53167    | 0.53167       |\n",
    "| **mAP@50 (val)**           | 0.81680    | 0.81737       |\n",
    "| **Precision (val)**        | 0.90306    | 0.91265       |\n",
    "| **Recall (val)**           | 0.74100    | 0.78776       |\n",
    "| **Box Loss (train)**       | 0.84756    | 0.83256       |\n",
    "| **Class Loss (train)**     | 0.41376    | 0.40873       |\n",
    "| **DFL Loss (train)**       | 0.80578    | 0.80386       |\n",
    "| **Box Loss (val)**         | 0.86958    | 0.86958       |\n",
    "| **Class Loss (val)**       | 0.42202    | 0.42202       |\n",
    "| **DFL Loss (val)**         | 0.81992    | 0.81951       |\n",
    "\n",
    "---\n",
    "\n",
    "### 🧪 Notes\n",
    "\n",
    "- The model converged smoothly with no signs of overfitting.\n",
    "- High **precision (0.91)** and solid **recall (0.78)** suggest strong localization and classification.\n",
    "- Model complexity (87.3 GFLOPs) makes it suitable for powerful edge or server-side deployment.\n",
    "\n",
    "---\n",
    "\n",
    "### 🚀 Potential Use Cases\n",
    "\n",
    "- **Real-time football analytics**\n",
    "- **Referee decision assist systems**\n",
    "- **Player movement tracking & ball possession**\n",
    "- **Broadcast visuals enhancement**\n",
    "\n"
   ]
  },
  {
   "cell_type": "markdown",
   "metadata": {},
   "source": [
    "### Installing Dependencies"
   ]
  },
  {
   "cell_type": "code",
   "execution_count": 1,
   "metadata": {
    "execution": {
     "iopub.execute_input": "2025-09-05T15:17:27.692204Z",
     "iopub.status.busy": "2025-09-05T15:17:27.692014Z",
     "iopub.status.idle": "2025-09-05T15:18:56.247768Z",
     "shell.execute_reply": "2025-09-05T15:18:56.247112Z",
     "shell.execute_reply.started": "2025-09-05T15:17:27.692188Z"
    },
    "id": "-z1GCFLvnUTE",
    "outputId": "dfa3e271-ae97-4003-8477-413277a84e85",
    "trusted": true
   },
   "outputs": [
    {
     "name": "stdout",
     "output_type": "stream",
     "text": [
      "\u001b[2K   \u001b[90m━━━━━━━━━━━━━━━━━━━━━━━━━━━━━━━━━━━━━━━━\u001b[0m \u001b[32m762.0/762.0 kB\u001b[0m \u001b[31m11.5 MB/s\u001b[0m eta \u001b[36m0:00:00\u001b[0ma \u001b[36m0:00:01\u001b[0m\n",
      "\u001b[2K   \u001b[90m━━━━━━━━━━━━━━━━━━━━━━━━━━━━━━━━━━━━━━━━\u001b[0m \u001b[32m1.2/1.2 MB\u001b[0m \u001b[31m36.7 MB/s\u001b[0m eta \u001b[36m0:00:00\u001b[0m\n",
      "\u001b[2K   \u001b[90m━━━━━━━━━━━━━━━━━━━━━━━━━━━━━━━━━━━━━━━━\u001b[0m \u001b[32m3.5/3.5 MB\u001b[0m \u001b[31m66.9 MB/s\u001b[0m eta \u001b[36m0:00:00\u001b[0m:00:01\u001b[0m\n",
      "\u001b[2K   \u001b[90m━━━━━━━━━━━━━━━━━━━━━━━━━━━━━━━━━━━━━━━━\u001b[0m \u001b[32m144.8/144.8 kB\u001b[0m \u001b[31m7.8 MB/s\u001b[0m eta \u001b[36m0:00:00\u001b[0m\n",
      "\u001b[2K   \u001b[90m━━━━━━━━━━━━━━━━━━━━━━━━━━━━━━━━━━━━━━━━\u001b[0m \u001b[32m1.1/1.1 MB\u001b[0m \u001b[31m19.0 MB/s\u001b[0m eta \u001b[36m0:00:00\u001b[0ma \u001b[36m0:00:01\u001b[0m\n",
      "\u001b[2K   \u001b[90m━━━━━━━━━━━━━━━━━━━━━━━━━━━━━━━━━━━━━━━━\u001b[0m \u001b[32m363.4/363.4 MB\u001b[0m \u001b[31m4.7 MB/s\u001b[0m eta \u001b[36m0:00:00\u001b[0m0:00:01\u001b[0m00:01\u001b[0m\n",
      "\u001b[2K   \u001b[90m━━━━━━━━━━━━━━━━━━━━━━━━━━━━━━━━━━━━━━━━\u001b[0m \u001b[32m664.8/664.8 MB\u001b[0m \u001b[31m2.5 MB/s\u001b[0m eta \u001b[36m0:00:00\u001b[0m0:00:01\u001b[0m00:01\u001b[0m\n",
      "\u001b[2K   \u001b[90m━━━━━━━━━━━━━━━━━━━━━━━━━━━━━━━━━━━━━━━━\u001b[0m \u001b[32m211.5/211.5 MB\u001b[0m \u001b[31m7.5 MB/s\u001b[0m eta \u001b[36m0:00:00\u001b[0m0:00:01\u001b[0m00:01\u001b[0m\n",
      "\u001b[2K   \u001b[90m━━━━━━━━━━━━━━━━━━━━━━━━━━━━━━━━━━━━━━━━\u001b[0m \u001b[32m56.3/56.3 MB\u001b[0m \u001b[31m25.0 MB/s\u001b[0m eta \u001b[36m0:00:00\u001b[0m:00:01\u001b[0m00:01\u001b[0m\n",
      "\u001b[2K   \u001b[90m━━━━━━━━━━━━━━━━━━━━━━━━━━━━━━━━━━━━━━━━\u001b[0m \u001b[32m127.9/127.9 MB\u001b[0m \u001b[31m13.3 MB/s\u001b[0m eta \u001b[36m0:00:00\u001b[0m:00:01\u001b[0m00:01\u001b[0m\n",
      "\u001b[2K   \u001b[90m━━━━━━━━━━━━━━━━━━━━━━━━━━━━━━━━━━━━━━━━\u001b[0m \u001b[32m207.5/207.5 MB\u001b[0m \u001b[31m8.3 MB/s\u001b[0m eta \u001b[36m0:00:00\u001b[0m0:00:01\u001b[0m00:01\u001b[0m\n",
      "\u001b[2K   \u001b[90m━━━━━━━━━━━━━━━━━━━━━━━━━━━━━━━━━━━━━━━━\u001b[0m \u001b[32m21.1/21.1 MB\u001b[0m \u001b[31m77.1 MB/s\u001b[0m eta \u001b[36m0:00:00\u001b[0m:00:01\u001b[0m00:01\u001b[0m\n",
      "\u001b[?25h\u001b[31mERROR: pip's dependency resolver does not currently take into account all the packages that are installed. This behaviour is the source of the following dependency conflicts.\n",
      "pylibcugraph-cu12 24.12.0 requires pylibraft-cu12==24.12.*, but you have pylibraft-cu12 25.2.0 which is incompatible.\n",
      "pylibcugraph-cu12 24.12.0 requires rmm-cu12==24.12.*, but you have rmm-cu12 25.2.0 which is incompatible.\u001b[0m\u001b[31m\n",
      "\u001b[0m"
     ]
    }
   ],
   "source": [
    "# !pip3 install -qU torch torchvision torchaudio \n",
    "!pip install -qU comet_ml\n",
    "!pip install -qU ultralytics"
   ]
  },
  {
   "cell_type": "markdown",
   "metadata": {},
   "source": [
    "### Importing Dependency"
   ]
  },
  {
   "cell_type": "code",
   "execution_count": 2,
   "metadata": {
    "execution": {
     "iopub.execute_input": "2025-09-05T15:18:56.249559Z",
     "iopub.status.busy": "2025-09-05T15:18:56.249353Z",
     "iopub.status.idle": "2025-09-05T15:19:03.252332Z",
     "shell.execute_reply": "2025-09-05T15:19:03.251750Z",
     "shell.execute_reply.started": "2025-09-05T15:18:56.249539Z"
    },
    "id": "tMkNAFmy3Y3g",
    "trusted": true
   },
   "outputs": [
    {
     "name": "stdout",
     "output_type": "stream",
     "text": [
      "Creating new Ultralytics Settings v0.0.6 file ✅ \n",
      "View Ultralytics Settings with 'yolo settings' or at '/root/.config/Ultralytics/settings.json'\n",
      "Update Settings with 'yolo settings key=value', i.e. 'yolo settings runs_dir=path/to/dir'. For help see https://docs.ultralytics.com/quickstart/#ultralytics-settings.\n"
     ]
    }
   ],
   "source": [
    "import comet_ml\n",
    "import torch\n",
    "from ultralytics import YOLO\n",
    "import urllib.request as request\n",
    "import os\n",
    "from pathlib import Path\n",
    "import zipfile"
   ]
  },
  {
   "cell_type": "markdown",
   "metadata": {},
   "source": [
    "## Preparing Dataset\n",
    "- You can use the same dataset from kaggle as well which is also shown in in input section"
   ]
  },
  {
   "cell_type": "code",
   "execution_count": null,
   "metadata": {
    "execution": {
     "iopub.execute_input": "2025-04-20T19:43:42.203084Z",
     "iopub.status.busy": "2025-04-20T19:43:42.202593Z",
     "iopub.status.idle": "2025-04-20T19:43:42.206381Z",
     "shell.execute_reply": "2025-04-20T19:43:42.205755Z",
     "shell.execute_reply.started": "2025-04-20T19:43:42.203063Z"
    },
    "id": "m7caTKKBrPzF",
    "trusted": true
   },
   "outputs": [],
   "source": [
    "# #Model foe getting the size of dataset\n",
    "\n",
    "# def get_size(path: Path) -> str:\n",
    "#     \"\"\"get size in KB\n",
    "\n",
    "#     Args:\n",
    "#         path (Path): path of the file\n",
    "\n",
    "#     Returns:\n",
    "#         str: size in KB\n",
    "#     \"\"\"\n",
    "#     size_in_kb = round(os.path.getsize(path)/1024)\n",
    "#     return f\"~ {size_in_kb} KB\""
   ]
  },
  {
   "cell_type": "code",
   "execution_count": null,
   "metadata": {
    "execution": {
     "iopub.execute_input": "2025-04-20T19:43:42.795323Z",
     "iopub.status.busy": "2025-04-20T19:43:42.794859Z",
     "iopub.status.idle": "2025-04-20T19:43:42.799255Z",
     "shell.execute_reply": "2025-04-20T19:43:42.798187Z",
     "shell.execute_reply.started": "2025-04-20T19:43:42.795291Z"
    },
    "id": "XRgfJrv7pSfz",
    "trusted": true
   },
   "outputs": [],
   "source": [
    "\n",
    "# data_url = r\"https://github.com/itsmeAman03/My_datasets/raw/refs/heads/main/Football-Players-Detection-Dataset.zip\"\n",
    "# data_name = \"football-obd.zip\"\n",
    "# unzip_dir = \"football-obd\""
   ]
  },
  {
   "cell_type": "code",
   "execution_count": null,
   "metadata": {
    "execution": {
     "iopub.execute_input": "2025-04-20T19:43:43.102406Z",
     "iopub.status.busy": "2025-04-20T19:43:43.102189Z",
     "iopub.status.idle": "2025-04-20T19:43:43.105744Z",
     "shell.execute_reply": "2025-04-20T19:43:43.105074Z",
     "shell.execute_reply.started": "2025-04-20T19:43:43.102389Z"
    },
    "id": "l6qnmu9doVbi",
    "trusted": true
   },
   "outputs": [],
   "source": [
    "#Data Download function\n",
    "# def download_file(data_url,data_name):\n",
    "#     if not os.path.exists(data_name):\n",
    "#         filename, headers = request.urlretrieve(\n",
    "#             url = data_url,\n",
    "#             filename = data_name\n",
    "#         )\n",
    "#         print(f\"{filename} download! with following info: \\n{headers}\")\n",
    "#     else:\n",
    "#       print(f\"File already exists of size: {get_size(Path(data_name))}\")"
   ]
  },
  {
   "cell_type": "code",
   "execution_count": null,
   "metadata": {
    "execution": {
     "iopub.execute_input": "2025-04-20T19:43:43.307160Z",
     "iopub.status.busy": "2025-04-20T19:43:43.306942Z",
     "iopub.status.idle": "2025-04-20T19:43:43.310504Z",
     "shell.execute_reply": "2025-04-20T19:43:43.309768Z",
     "shell.execute_reply.started": "2025-04-20T19:43:43.307143Z"
    },
    "id": "DabTumnBo-2J",
    "trusted": true
   },
   "outputs": [],
   "source": [
    "# #Data Extract function\n",
    "# def extract_zip_file(unzip_dir,data_name):\n",
    "#     \"\"\"\n",
    "#     zip_file_path: str\n",
    "#     Extracts the zip file into the data directory\n",
    "#     Function returns None\n",
    "#     \"\"\"\n",
    "#     unzip_path = Path(unzip_dir)\n",
    "#     os.makedirs(unzip_path, exist_ok=True)\n",
    "#     with zipfile.ZipFile(data_name, 'r') as zip_ref:\n",
    "#       zip_ref.extractall(unzip_path)\n"
   ]
  },
  {
   "cell_type": "code",
   "execution_count": null,
   "metadata": {
    "execution": {
     "iopub.execute_input": "2025-04-20T19:43:43.543625Z",
     "iopub.status.busy": "2025-04-20T19:43:43.543414Z",
     "iopub.status.idle": "2025-04-20T19:43:43.547379Z",
     "shell.execute_reply": "2025-04-20T19:43:43.546615Z",
     "shell.execute_reply.started": "2025-04-20T19:43:43.543603Z"
    },
    "id": "nhe_JbSisGbD",
    "outputId": "3d73672f-97e4-4b55-b8d8-376f386ca959",
    "trusted": true
   },
   "outputs": [],
   "source": [
    "# STAGE_NAME = \"Data Ingestion Stage\"\n",
    "\n",
    "# try:\n",
    "#   print(f\">>>>>> Stage {STAGE_NAME} Started <<<<<<\")\n",
    "#   download_file(data_url,data_name)\n",
    "#   extract_zip_file(unzip_dir,data_name)\n",
    "#   print(f\">>>>>> Stage {STAGE_NAME} Completed <<<<<<\\n\\nX-----------------X\")\n",
    "# except Exception as e:\n",
    "#   print(\"f An error occurred while executing the Data Ingest stage.\\n {e}\")"
   ]
  },
  {
   "cell_type": "code",
   "execution_count": 3,
   "metadata": {
    "execution": {
     "iopub.execute_input": "2025-09-05T15:19:54.068151Z",
     "iopub.status.busy": "2025-09-05T15:19:54.067438Z",
     "iopub.status.idle": "2025-09-05T15:19:56.440917Z",
     "shell.execute_reply": "2025-09-05T15:19:56.440118Z",
     "shell.execute_reply.started": "2025-09-05T15:19:54.068125Z"
    },
    "id": "RdDQbFvBv_SG",
    "trusted": true
   },
   "outputs": [],
   "source": [
    "#Loading the model\n",
    "model = YOLO(\"/kaggle/input/yolo11/pytorch/default/1/yolo11l.pt\")"
   ]
  },
  {
   "cell_type": "code",
   "execution_count": 6,
   "metadata": {
    "execution": {
     "iopub.execute_input": "2025-09-05T15:21:03.779442Z",
     "iopub.status.busy": "2025-09-05T15:21:03.778697Z",
     "iopub.status.idle": "2025-09-05T15:21:03.786368Z",
     "shell.execute_reply": "2025-09-05T15:21:03.785508Z",
     "shell.execute_reply.started": "2025-09-05T15:21:03.779413Z"
    },
    "id": "KP6iY4_EwK8-",
    "outputId": "fca3bd2e-5b1a-4d55-8f14-34bd712866a3",
    "trusted": true
   },
   "outputs": [
    {
     "name": "stdout",
     "output_type": "stream",
     "text": [
      "Number of model parameters: 514\n"
     ]
    }
   ],
   "source": [
    "# Get the model's parameters\n",
    "model_parameters = list(model.parameters())\n",
    "print(f\"Number of model parameters: {len(model_parameters)}\")\n",
    "\n",
    "one3rd = (len(model_parameters))//3\n",
    "          \n",
    "# Freeze all layers except the last 1/3rd\n",
    "for param in model_parameters[:-one3rd]:\n",
    "    param.requires_grad = False\n",
    "\n",
    "# Verify that the last 1/3rd layers are not frozen\n",
    "for param in model_parameters[-one3rd:]:\n",
    "    param.requires_grad = True"
   ]
  },
  {
   "cell_type": "code",
   "execution_count": 7,
   "metadata": {
    "execution": {
     "iopub.execute_input": "2025-09-05T15:21:10.952377Z",
     "iopub.status.busy": "2025-09-05T15:21:10.952101Z",
     "iopub.status.idle": "2025-09-05T15:21:10.981059Z",
     "shell.execute_reply": "2025-09-05T15:21:10.980333Z",
     "shell.execute_reply.started": "2025-09-05T15:21:10.952357Z"
    },
    "id": "xY7ANFC20F2b",
    "outputId": "3557b031-89e8-43f7-883c-360f6da4b77a",
    "trusted": true
   },
   "outputs": [
    {
     "name": "stdout",
     "output_type": "stream",
     "text": [
      "Number of GPUs available: 2\n"
     ]
    }
   ],
   "source": [
    "total_gpu = torch.cuda.device_count()\n",
    "print(f\"Number of GPUs available: {total_gpu}\")"
   ]
  },
  {
   "cell_type": "markdown",
   "metadata": {},
   "source": [
    "## I have used CometML for my Model training logging and ultraritics provide the simple addition in the code to CometML Experimentation"
   ]
  },
  {
   "cell_type": "code",
   "execution_count": 8,
   "metadata": {
    "execution": {
     "iopub.execute_input": "2025-09-05T15:21:17.081478Z",
     "iopub.status.busy": "2025-09-05T15:21:17.081176Z",
     "iopub.status.idle": "2025-09-05T15:21:17.180990Z",
     "shell.execute_reply": "2025-09-05T15:21:17.180449Z",
     "shell.execute_reply.started": "2025-09-05T15:21:17.081451Z"
    },
    "trusted": true
   },
   "outputs": [],
   "source": [
    "from kaggle_secrets import UserSecretsClient\n",
    "user_secrets = UserSecretsClient()\n",
    "COMET_API_KEY = user_secrets.get_secret(\"COMET_API_KEY\")"
   ]
  },
  {
   "cell_type": "code",
   "execution_count": 9,
   "metadata": {
    "execution": {
     "iopub.execute_input": "2025-09-05T15:21:21.663901Z",
     "iopub.status.busy": "2025-09-05T15:21:21.663639Z",
     "iopub.status.idle": "2025-09-05T15:21:21.821335Z",
     "shell.execute_reply": "2025-09-05T15:21:21.820755Z",
     "shell.execute_reply.started": "2025-09-05T15:21:21.663881Z"
    },
    "id": "ULIBta6CLt-5",
    "trusted": true
   },
   "outputs": [
    {
     "name": "stderr",
     "output_type": "stream",
     "text": [
      "\u001b[1;38;5;39mCOMET INFO:\u001b[0m Valid Comet API Key saved in /root/.comet.config (set COMET_CONFIG to change where it is saved).\n"
     ]
    }
   ],
   "source": [
    "comet_ml.login(api_key=COMET_API_KEY,project_name=\"football-object-detection-yolo11\")"
   ]
  },
  {
   "cell_type": "code",
   "execution_count": 10,
   "metadata": {
    "execution": {
     "iopub.execute_input": "2025-09-05T15:21:36.569489Z",
     "iopub.status.busy": "2025-09-05T15:21:36.568961Z",
     "iopub.status.idle": "2025-09-05T15:29:25.690853Z",
     "shell.execute_reply": "2025-09-05T15:29:25.689992Z",
     "shell.execute_reply.started": "2025-09-05T15:21:36.569463Z"
    },
    "id": "iHVws8r6zYNG",
    "outputId": "3c547db7-fe4e-4999-db63-81663c5f56c2",
    "trusted": true
   },
   "outputs": [
    {
     "name": "stdout",
     "output_type": "stream",
     "text": [
      "Ultralytics 8.3.193 🚀 Python-3.11.11 torch-2.5.1+cu124 CUDA:0 (Tesla T4, 15095MiB)\n",
      "                                                        CUDA:1 (Tesla T4, 15095MiB)\n",
      "\u001b[34m\u001b[1mengine/trainer: \u001b[0magnostic_nms=False, amp=True, augment=False, auto_augment=randaugment, batch=16, bgr=0.0, box=7.5, cache=False, cfg=None, classes=None, close_mosaic=10, cls=0.5, conf=None, copy_paste=0.0, copy_paste_mode=flip, cos_lr=False, cutmix=0.0, data=/kaggle/input/football-players-detection-dataset/data.yaml, degrees=0.0, deterministic=True, device=0,1, dfl=1.5, dnn=False, dropout=0.0, dynamic=False, embed=None, epochs=50, erasing=0.4, exist_ok=False, fliplr=0.5, flipud=0.0, format=torchscript, fraction=1.0, freeze=None, half=False, hsv_h=0.015, hsv_s=0.7, hsv_v=0.4, imgsz=640, int8=False, iou=0.7, keras=False, kobj=1.0, line_width=None, lr0=0.01, lrf=0.01, mask_ratio=4, max_det=300, mixup=0.0, mode=train, model=/kaggle/input/yolo11/pytorch/default/1/yolo11l.pt, momentum=0.937, mosaic=1.0, multi_scale=False, name=yolov11l_finetune, nbs=64, nms=False, opset=None, optimize=False, optimizer=auto, overlap_mask=True, patience=100, perspective=0.0, plots=True, pose=12.0, pretrained=True, profile=False, project=football-object-detection-yolo11, rect=False, resume=False, retina_masks=False, save=True, save_conf=False, save_crop=False, save_dir=/kaggle/working/football-object-detection-yolo11/yolov11l_finetune, save_frames=False, save_json=True, save_period=-1, save_txt=False, scale=0.5, seed=0, shear=0.0, show=False, show_boxes=True, show_conf=True, show_labels=True, simplify=True, single_cls=False, source=None, split=val, stream_buffer=False, task=detect, time=None, tracker=botsort.yaml, translate=0.1, val=True, verbose=True, vid_stride=1, visualize=False, warmup_bias_lr=0.1, warmup_epochs=3.0, warmup_momentum=0.8, weight_decay=0.0005, workers=8, workspace=None\n",
      "\u001b[KDownloading https://ultralytics.com/assets/Arial.ttf to '/root/.config/Ultralytics/Arial.ttf': 100% ━━━━━━━━━━━━ 755.1KB 15.6MB/s 0.0s\n"
     ]
    },
    {
     "name": "stderr",
     "output_type": "stream",
     "text": [
      "\u001b[1;38;5;214mCOMET WARNING:\u001b[0m As you are running in a Jupyter environment, you will need to call `experiment.end()` when finished to ensure all metrics and code are logged before exiting.\n",
      "\u001b[1;38;5;39mCOMET INFO:\u001b[0m Experiment is live on comet.com https://www.comet.com/aman-kr-ak03-gmail-com/football-object-detection-yolo11/96da6a58f1584256a25c9f1c03e5f403\n",
      "\n",
      "\u001b[1;38;5;39mCOMET INFO:\u001b[0m Couldn't find a Git repository in '/kaggle/working' nor in any parent directory. Set `COMET_GIT_DIRECTORY` if your Git Repository is elsewhere.\n"
     ]
    },
    {
     "name": "stdout",
     "output_type": "stream",
     "text": [
      "Overriding model.yaml nc=80 with nc=4\n",
      "\n",
      "                   from  n    params  module                                       arguments                     \n",
      "  0                  -1  1      1856  ultralytics.nn.modules.conv.Conv             [3, 64, 3, 2]                 \n",
      "  1                  -1  1     73984  ultralytics.nn.modules.conv.Conv             [64, 128, 3, 2]               \n",
      "  2                  -1  2    173824  ultralytics.nn.modules.block.C3k2            [128, 256, 2, True, 0.25]     \n",
      "  3                  -1  1    590336  ultralytics.nn.modules.conv.Conv             [256, 256, 3, 2]              \n",
      "  4                  -1  2    691712  ultralytics.nn.modules.block.C3k2            [256, 512, 2, True, 0.25]     \n",
      "  5                  -1  1   2360320  ultralytics.nn.modules.conv.Conv             [512, 512, 3, 2]              \n",
      "  6                  -1  2   2234368  ultralytics.nn.modules.block.C3k2            [512, 512, 2, True]           \n",
      "  7                  -1  1   2360320  ultralytics.nn.modules.conv.Conv             [512, 512, 3, 2]              \n",
      "  8                  -1  2   2234368  ultralytics.nn.modules.block.C3k2            [512, 512, 2, True]           \n",
      "  9                  -1  1    656896  ultralytics.nn.modules.block.SPPF            [512, 512, 5]                 \n",
      " 10                  -1  2   1455616  ultralytics.nn.modules.block.C2PSA           [512, 512, 2]                 \n",
      " 11                  -1  1         0  torch.nn.modules.upsampling.Upsample         [None, 2, 'nearest']          \n",
      " 12             [-1, 6]  1         0  ultralytics.nn.modules.conv.Concat           [1]                           \n",
      " 13                  -1  2   2496512  ultralytics.nn.modules.block.C3k2            [1024, 512, 2, True]          \n",
      " 14                  -1  1         0  torch.nn.modules.upsampling.Upsample         [None, 2, 'nearest']          \n",
      " 15             [-1, 4]  1         0  ultralytics.nn.modules.conv.Concat           [1]                           \n",
      " 16                  -1  2    756736  ultralytics.nn.modules.block.C3k2            [1024, 256, 2, True]          \n",
      " 17                  -1  1    590336  ultralytics.nn.modules.conv.Conv             [256, 256, 3, 2]              \n",
      " 18            [-1, 13]  1         0  ultralytics.nn.modules.conv.Concat           [1]                           \n",
      " 19                  -1  2   2365440  ultralytics.nn.modules.block.C3k2            [768, 512, 2, True]           \n",
      " 20                  -1  1   2360320  ultralytics.nn.modules.conv.Conv             [512, 512, 3, 2]              \n",
      " 21            [-1, 10]  1         0  ultralytics.nn.modules.conv.Concat           [1]                           \n",
      " 22                  -1  2   2496512  ultralytics.nn.modules.block.C3k2            [1024, 512, 2, True]          \n",
      " 23        [16, 19, 22]  1   1414108  ultralytics.nn.modules.head.Detect           [4, [256, 512, 512]]          \n",
      "YOLO11l summary: 357 layers, 25,313,564 parameters, 25,313,548 gradients, 87.3 GFLOPs\n",
      "\n",
      "Transferred 1009/1015 items from pretrained weights\n",
      "\u001b[34m\u001b[1mDDP:\u001b[0m debug command /usr/bin/python3 -m torch.distributed.run --nproc_per_node 2 --master_port 53447 /root/.config/Ultralytics/DDP/_temp__t4uwuww138730393297808.py\n",
      "Ultralytics 8.3.193 🚀 Python-3.11.11 torch-2.5.1+cu124 CUDA:0 (Tesla T4, 15095MiB)\n",
      "                                                        CUDA:1 (Tesla T4, 15095MiB)\n"
     ]
    },
    {
     "name": "stderr",
     "output_type": "stream",
     "text": [
      "COMET WARNING: To get all data logged automatically, import comet_ml before the following modules: torch.\n",
      "COMET INFO: Experiment is live on comet.com https://www.comet.com/aman-kr-ak03-gmail-com/football-object-detection-yolo11/e005f2bd2da24078b3e462a4dc69a5fe\n",
      "\n",
      "COMET INFO: Couldn't find a Git repository in '/kaggle/working' nor in any parent directory. Set `COMET_GIT_DIRECTORY` if your Git Repository is elsewhere.\n"
     ]
    },
    {
     "name": "stdout",
     "output_type": "stream",
     "text": [
      "Overriding model.yaml nc=80 with nc=4\n",
      "Transferred 1009/1015 items from pretrained weights\n",
      "Freezing layer 'model.23.dfl.conv.weight'\n",
      "\u001b[34m\u001b[1mAMP: \u001b[0mrunning Automatic Mixed Precision (AMP) checks...\n",
      "\u001b[KDownloading https://github.com/ultralytics/assets/releases/download/v8.3.0/yolo11n.pt to 'yolo11n.pt': 100% ━━━━━━━━━━━━ 5.4MB 68.9MB/s 0.1s\n",
      "\u001b[34m\u001b[1mAMP: \u001b[0mchecks passed ✅\n",
      "\u001b[34m\u001b[1mtrain: \u001b[0mFast image access ✅ (ping: 0.0±0.0 ms, read: 30.7±3.4 MB/s, size: 210.1 KB)\n",
      "\u001b[K\u001b[34m\u001b[1mtrain: \u001b[0mScanning /kaggle/input/football-players-detection-dataset/train/labels... 250 images, 0 backgrounds, 0 corrupt: 100% ━━━━━━━━━━━━ 250/250 157.7it/s 1.6s0.0s\n",
      "WARNING ⚠️ \u001b[34m\u001b[1mtrain: \u001b[0mCache directory /kaggle/input/football-players-detection-dataset/train is not writeable, cache not saved.\n",
      "\u001b[34m\u001b[1malbumentations: \u001b[0mBlur(p=0.01, blur_limit=(3, 7)), MedianBlur(p=0.01, blur_limit=(3, 7)), ToGray(p=0.01, num_output_channels=3, method='weighted_average'), CLAHE(p=0.01, clip_limit=(1.0, 4.0), tile_grid_size=(8, 8))\n",
      "\u001b[34m\u001b[1mval: \u001b[0mFast image access ✅ (ping: 0.0±0.0 ms, read: 31.2±5.4 MB/s, size: 215.0 KB)\n",
      "\u001b[K\u001b[34m\u001b[1mval: \u001b[0mScanning /kaggle/input/football-players-detection-dataset/valid/labels... 43 images, 0 backgrounds, 0 corrupt: 100% ━━━━━━━━━━━━ 43/43 143.5it/s 0.3s.3s\n",
      "WARNING ⚠️ \u001b[34m\u001b[1mval: \u001b[0mCache directory /kaggle/input/football-players-detection-dataset/valid is not writeable, cache not saved.\n",
      "Plotting labels to /kaggle/working/football-object-detection-yolo11/yolov11l_finetune/labels.jpg... \n",
      "\u001b[34m\u001b[1moptimizer:\u001b[0m 'optimizer=auto' found, ignoring 'lr0=0.01' and 'momentum=0.937' and determining best 'optimizer', 'lr0' and 'momentum' automatically... \n",
      "\u001b[34m\u001b[1moptimizer:\u001b[0m AdamW(lr=0.00125, momentum=0.9) with parameter groups 167 weight(decay=0.0), 174 weight(decay=0.0005), 173 bias(decay=0.0)\n",
      "Image sizes 640 train, 640 val\n",
      "Using 4 dataloader workers\n",
      "Logging results to \u001b[1m/kaggle/working/football-object-detection-yolo11/yolov11l_finetune\u001b[0m\n",
      "Starting training for 50 epochs...\n",
      "\n",
      "      Epoch    GPU_mem   box_loss   cls_loss   dfl_loss  Instances       Size\n",
      "\u001b[K       1/50      5.45G      1.505      3.421     0.8588        218        640: 100% ━━━━━━━━━━━━ 16/16 1.7it/s 9.4s0.5s\n",
      "\u001b[K                 Class     Images  Instances      Box(P          R      mAP50  mAP50-95): 100% ━━━━━━━━━━━━ 3/3 1.3it/s 2.2s0.8ss\n",
      "                   all         43       1025        0.7      0.209      0.213      0.126\n",
      "\n",
      "      Epoch    GPU_mem   box_loss   cls_loss   dfl_loss  Instances       Size\n",
      "\u001b[K       2/50      5.61G      1.235     0.9345     0.8262        152        640: 100% ━━━━━━━━━━━━ 16/16 2.4it/s 6.6s0.4s\n",
      "\u001b[K                 Class     Images  Instances      Box(P          R      mAP50  mAP50-95): 100% ━━━━━━━━━━━━ 3/3 4.8it/s 0.6s0.5s\n",
      "                   all         43       1025      0.787       0.26      0.286      0.172\n",
      "\n",
      "      Epoch    GPU_mem   box_loss   cls_loss   dfl_loss  Instances       Size\n",
      "\u001b[K       3/50      5.64G      1.264     0.8052     0.8205        244        640: 100% ━━━━━━━━━━━━ 16/16 2.4it/s 6.6s0.4s\n",
      "\u001b[K                 Class     Images  Instances      Box(P          R      mAP50  mAP50-95): 100% ━━━━━━━━━━━━ 3/3 5.1it/s 0.6s0.4s\n",
      "                   all         43       1025      0.407      0.478      0.407      0.212\n",
      "\n",
      "      Epoch    GPU_mem   box_loss   cls_loss   dfl_loss  Instances       Size\n",
      "\u001b[K       4/50      5.64G      1.195      0.733     0.8197        228        640: 100% ━━━━━━━━━━━━ 16/16 2.4it/s 6.6s0.4s\n",
      "\u001b[K                 Class     Images  Instances      Box(P          R      mAP50  mAP50-95): 100% ━━━━━━━━━━━━ 3/3 4.9it/s 0.6s0.4s\n",
      "                   all         43       1025      0.653      0.533      0.427      0.249\n",
      "\n",
      "      Epoch    GPU_mem   box_loss   cls_loss   dfl_loss  Instances       Size\n",
      "\u001b[K       5/50      5.64G      1.233     0.7269      0.819        147        640: 100% ━━━━━━━━━━━━ 16/16 2.5it/s 6.5s0.4s\n",
      "\u001b[K                 Class     Images  Instances      Box(P          R      mAP50  mAP50-95): 100% ━━━━━━━━━━━━ 3/3 5.1it/s 0.6s0.4s\n",
      "                   all         43       1025      0.288      0.379      0.257      0.147\n",
      "\n",
      "      Epoch    GPU_mem   box_loss   cls_loss   dfl_loss  Instances       Size\n",
      "\u001b[K       6/50      5.64G      1.195     0.6795     0.8198        155        640: 100% ━━━━━━━━━━━━ 16/16 2.5it/s 6.5s0.4s\n",
      "\u001b[K                 Class     Images  Instances      Box(P          R      mAP50  mAP50-95): 100% ━━━━━━━━━━━━ 3/3 4.9it/s 0.6s0.4s\n",
      "                   all         43       1025      0.114      0.142     0.0879       0.05\n",
      "\n",
      "      Epoch    GPU_mem   box_loss   cls_loss   dfl_loss  Instances       Size\n",
      "\u001b[K       7/50      5.64G      1.234     0.7101     0.8204        232        640: 100% ━━━━━━━━━━━━ 16/16 2.5it/s 6.5s0.4s\n",
      "\u001b[K                 Class     Images  Instances      Box(P          R      mAP50  mAP50-95): 100% ━━━━━━━━━━━━ 3/3 4.9it/s 0.6s0.4s\n",
      "                   all         43       1025      0.568      0.436      0.436      0.248\n",
      "\n",
      "      Epoch    GPU_mem   box_loss   cls_loss   dfl_loss  Instances       Size\n",
      "\u001b[K       8/50      5.64G       1.23     0.6851     0.8151        149        640: 100% ━━━━━━━━━━━━ 16/16 2.4it/s 6.5s0.4s\n",
      "\u001b[K                 Class     Images  Instances      Box(P          R      mAP50  mAP50-95): 100% ━━━━━━━━━━━━ 3/3 5.1it/s 0.6s0.4s\n",
      "                   all         43       1025      0.812      0.527       0.63      0.345\n",
      "\n",
      "      Epoch    GPU_mem   box_loss   cls_loss   dfl_loss  Instances       Size\n",
      "\u001b[K       9/50      5.64G      1.177     0.6722     0.8124        197        640: 100% ━━━━━━━━━━━━ 16/16 2.4it/s 6.6s0.4s\n",
      "\u001b[K                 Class     Images  Instances      Box(P          R      mAP50  mAP50-95): 100% ━━━━━━━━━━━━ 3/3 5.1it/s 0.6s0.4s\n",
      "                   all         43       1025      0.744      0.524      0.618      0.362\n",
      "\n",
      "      Epoch    GPU_mem   box_loss   cls_loss   dfl_loss  Instances       Size\n",
      "\u001b[K      10/50      5.64G      1.178     0.6367     0.8089        190        640: 100% ━━━━━━━━━━━━ 16/16 2.4it/s 6.6s0.4s\n",
      "\u001b[K                 Class     Images  Instances      Box(P          R      mAP50  mAP50-95): 100% ━━━━━━━━━━━━ 3/3 5.1it/s 0.6s0.4s\n",
      "                   all         43       1025      0.716      0.603      0.547      0.328\n",
      "\n",
      "      Epoch    GPU_mem   box_loss   cls_loss   dfl_loss  Instances       Size\n",
      "\u001b[K      11/50      5.64G      1.112     0.5925     0.8139        177        640: 100% ━━━━━━━━━━━━ 16/16 2.4it/s 6.6s0.4s\n",
      "\u001b[K                 Class     Images  Instances      Box(P          R      mAP50  mAP50-95): 100% ━━━━━━━━━━━━ 3/3 5.1it/s 0.6s0.4s\n",
      "                   all         43       1025      0.697      0.639      0.678      0.405\n",
      "\n",
      "      Epoch    GPU_mem   box_loss   cls_loss   dfl_loss  Instances       Size\n",
      "\u001b[K      12/50      5.64G      1.098     0.5958     0.8126        233        640: 100% ━━━━━━━━━━━━ 16/16 2.4it/s 6.6s0.4s\n",
      "\u001b[K                 Class     Images  Instances      Box(P          R      mAP50  mAP50-95): 100% ━━━━━━━━━━━━ 3/3 5.2it/s 0.6s0.4s\n",
      "                   all         43       1025      0.907      0.592      0.708      0.425\n",
      "\n",
      "      Epoch    GPU_mem   box_loss   cls_loss   dfl_loss  Instances       Size\n",
      "\u001b[K      13/50      5.64G      1.156     0.5938     0.8087        185        640: 100% ━━━━━━━━━━━━ 16/16 2.4it/s 6.6s0.4s\n",
      "\u001b[K                 Class     Images  Instances      Box(P          R      mAP50  mAP50-95): 100% ━━━━━━━━━━━━ 3/3 5.4it/s 0.6s0.4s\n",
      "                   all         43       1025      0.829      0.657      0.711      0.436\n",
      "\n",
      "      Epoch    GPU_mem   box_loss   cls_loss   dfl_loss  Instances       Size\n",
      "\u001b[K      14/50      5.64G      1.158      0.579     0.8031        254        640: 100% ━━━━━━━━━━━━ 16/16 2.4it/s 6.6s0.4s\n",
      "\u001b[K                 Class     Images  Instances      Box(P          R      mAP50  mAP50-95): 100% ━━━━━━━━━━━━ 3/3 5.2it/s 0.6s0.4s\n",
      "                   all         43       1025      0.721      0.665      0.673      0.411\n",
      "\n",
      "      Epoch    GPU_mem   box_loss   cls_loss   dfl_loss  Instances       Size\n",
      "\u001b[K      15/50      5.64G      1.067     0.5483     0.8062        262        640: 100% ━━━━━━━━━━━━ 16/16 2.4it/s 6.7s0.4s\n",
      "\u001b[K                 Class     Images  Instances      Box(P          R      mAP50  mAP50-95): 100% ━━━━━━━━━━━━ 3/3 5.4it/s 0.6s0.4s\n",
      "                   all         43       1025      0.828      0.685      0.757      0.467\n",
      "\n",
      "      Epoch    GPU_mem   box_loss   cls_loss   dfl_loss  Instances       Size\n",
      "\u001b[K      16/50      5.64G      1.048     0.5503     0.7987        198        640: 100% ━━━━━━━━━━━━ 16/16 2.4it/s 6.7s0.4s\n",
      "\u001b[K                 Class     Images  Instances      Box(P          R      mAP50  mAP50-95): 100% ━━━━━━━━━━━━ 3/3 5.2it/s 0.6s0.4s\n",
      "                   all         43       1025      0.838      0.683      0.711      0.442\n",
      "\n",
      "      Epoch    GPU_mem   box_loss   cls_loss   dfl_loss  Instances       Size\n",
      "\u001b[K      17/50      5.64G      1.063     0.5469     0.8046        108        640: 100% ━━━━━━━━━━━━ 16/16 2.4it/s 6.7s0.4s\n",
      "\u001b[K                 Class     Images  Instances      Box(P          R      mAP50  mAP50-95): 100% ━━━━━━━━━━━━ 3/3 5.4it/s 0.6s0.4s\n",
      "                   all         43       1025      0.855       0.63      0.714      0.453\n",
      "\n",
      "      Epoch    GPU_mem   box_loss   cls_loss   dfl_loss  Instances       Size\n",
      "\u001b[K      18/50      5.64G      1.072     0.5279     0.8002        251        640: 100% ━━━━━━━━━━━━ 16/16 2.4it/s 6.8s0.4s\n",
      "\u001b[K                 Class     Images  Instances      Box(P          R      mAP50  mAP50-95): 100% ━━━━━━━━━━━━ 3/3 5.4it/s 0.6s0.4s\n",
      "                   all         43       1025      0.789      0.678      0.694      0.441\n",
      "\n",
      "      Epoch    GPU_mem   box_loss   cls_loss   dfl_loss  Instances       Size\n",
      "\u001b[K      19/50      5.64G      1.067     0.5529     0.8032        161        640: 100% ━━━━━━━━━━━━ 16/16 2.4it/s 6.7s0.4s\n",
      "\u001b[K                 Class     Images  Instances      Box(P          R      mAP50  mAP50-95): 100% ━━━━━━━━━━━━ 3/3 5.4it/s 0.6s0.4s\n",
      "                   all         43       1025      0.825      0.619      0.711      0.439\n",
      "\n",
      "      Epoch    GPU_mem   box_loss   cls_loss   dfl_loss  Instances       Size\n",
      "\u001b[K      20/50      5.64G       1.05     0.5219     0.8071        194        640: 100% ━━━━━━━━━━━━ 16/16 2.4it/s 6.7s0.4s\n",
      "\u001b[K                 Class     Images  Instances      Box(P          R      mAP50  mAP50-95): 100% ━━━━━━━━━━━━ 3/3 5.5it/s 0.5s0.4s\n",
      "                   all         43       1025      0.858      0.667      0.691      0.443\n",
      "\n",
      "      Epoch    GPU_mem   box_loss   cls_loss   dfl_loss  Instances       Size\n",
      "\u001b[K      21/50      5.64G      1.023     0.5063     0.7973        188        640: 100% ━━━━━━━━━━━━ 16/16 2.4it/s 6.7s0.4s\n",
      "\u001b[K                 Class     Images  Instances      Box(P          R      mAP50  mAP50-95): 100% ━━━━━━━━━━━━ 3/3 5.3it/s 0.6s0.4s\n",
      "                   all         43       1025      0.858      0.678      0.751      0.488\n",
      "\n",
      "      Epoch    GPU_mem   box_loss   cls_loss   dfl_loss  Instances       Size\n",
      "\u001b[K      22/50      5.64G      1.049     0.5082     0.7958        342        640: 100% ━━━━━━━━━━━━ 16/16 2.4it/s 6.7s0.4s\n",
      "\u001b[K                 Class     Images  Instances      Box(P          R      mAP50  mAP50-95): 100% ━━━━━━━━━━━━ 3/3 5.4it/s 0.6s0.4s\n",
      "                   all         43       1025      0.855      0.669      0.745       0.49\n",
      "\n",
      "      Epoch    GPU_mem   box_loss   cls_loss   dfl_loss  Instances       Size\n",
      "\u001b[K      23/50      5.64G     0.9804     0.4917     0.7928        231        640: 100% ━━━━━━━━━━━━ 16/16 2.4it/s 6.7s0.4s\n",
      "\u001b[K                 Class     Images  Instances      Box(P          R      mAP50  mAP50-95): 100% ━━━━━━━━━━━━ 3/3 5.2it/s 0.6s0.4s\n",
      "                   all         43       1025      0.877      0.691      0.752      0.486\n",
      "\n",
      "      Epoch    GPU_mem   box_loss   cls_loss   dfl_loss  Instances       Size\n",
      "\u001b[K      24/50      5.64G     0.9746     0.4847     0.7952        169        640: 100% ━━━━━━━━━━━━ 16/16 2.4it/s 6.7s0.4s\n",
      "\u001b[K                 Class     Images  Instances      Box(P          R      mAP50  mAP50-95): 100% ━━━━━━━━━━━━ 3/3 5.3it/s 0.6s0.4s\n",
      "                   all         43       1025      0.874      0.623      0.708      0.456\n",
      "\n",
      "      Epoch    GPU_mem   box_loss   cls_loss   dfl_loss  Instances       Size\n",
      "\u001b[K      25/50      5.64G      1.001     0.4985     0.7891        118        640: 100% ━━━━━━━━━━━━ 16/16 2.4it/s 6.7s0.4s\n",
      "\u001b[K                 Class     Images  Instances      Box(P          R      mAP50  mAP50-95): 100% ━━━━━━━━━━━━ 3/3 5.5it/s 0.6s0.4s\n",
      "                   all         43       1025      0.835      0.677      0.729      0.486\n",
      "\n",
      "      Epoch    GPU_mem   box_loss   cls_loss   dfl_loss  Instances       Size\n",
      "\u001b[K      26/50      5.64G     0.9695     0.4875     0.7983        208        640: 100% ━━━━━━━━━━━━ 16/16 2.4it/s 6.7s0.4s\n",
      "\u001b[K                 Class     Images  Instances      Box(P          R      mAP50  mAP50-95): 100% ━━━━━━━━━━━━ 3/3 5.5it/s 0.5s0.4s\n",
      "                   all         43       1025      0.903      0.668      0.755      0.498\n",
      "\n",
      "      Epoch    GPU_mem   box_loss   cls_loss   dfl_loss  Instances       Size\n",
      "\u001b[K      27/50      5.64G     0.9364     0.4692     0.7892        188        640: 100% ━━━━━━━━━━━━ 16/16 2.4it/s 6.7s0.4s\n",
      "\u001b[K                 Class     Images  Instances      Box(P          R      mAP50  mAP50-95): 100% ━━━━━━━━━━━━ 3/3 5.3it/s 0.6s0.4s\n",
      "                   all         43       1025      0.835      0.684      0.754      0.502\n",
      "\n",
      "      Epoch    GPU_mem   box_loss   cls_loss   dfl_loss  Instances       Size\n",
      "\u001b[K      28/50      5.64G     0.9256     0.4645      0.796        181        640: 100% ━━━━━━━━━━━━ 16/16 2.4it/s 6.7s0.4s\n",
      "\u001b[K                 Class     Images  Instances      Box(P          R      mAP50  mAP50-95): 100% ━━━━━━━━━━━━ 3/3 5.4it/s 0.6s0.4s\n",
      "                   all         43       1025      0.815      0.681      0.755      0.516\n",
      "\n",
      "      Epoch    GPU_mem   box_loss   cls_loss   dfl_loss  Instances       Size\n",
      "\u001b[K      29/50      5.64G     0.9192     0.4519     0.7905        216        640: 100% ━━━━━━━━━━━━ 16/16 2.4it/s 6.7s0.4s\n",
      "\u001b[K                 Class     Images  Instances      Box(P          R      mAP50  mAP50-95): 100% ━━━━━━━━━━━━ 3/3 5.3it/s 0.6s0.4s\n",
      "                   all         43       1025      0.867      0.713      0.784      0.532\n",
      "\n",
      "      Epoch    GPU_mem   box_loss   cls_loss   dfl_loss  Instances       Size\n",
      "\u001b[K      30/50      5.64G     0.9057     0.4538     0.7927        184        640: 100% ━━━━━━━━━━━━ 16/16 2.4it/s 6.8s0.4s\n",
      "\u001b[K                 Class     Images  Instances      Box(P          R      mAP50  mAP50-95): 100% ━━━━━━━━━━━━ 3/3 5.5it/s 0.5s0.4s\n",
      "                   all         43       1025      0.827      0.706      0.762      0.515\n",
      "\n",
      "      Epoch    GPU_mem   box_loss   cls_loss   dfl_loss  Instances       Size\n",
      "\u001b[K      31/50      5.64G     0.9253     0.4574     0.7936        171        640: 100% ━━━━━━━━━━━━ 16/16 2.4it/s 6.8s0.4s\n",
      "\u001b[K                 Class     Images  Instances      Box(P          R      mAP50  mAP50-95): 100% ━━━━━━━━━━━━ 3/3 5.5it/s 0.5s0.4s\n",
      "                   all         43       1025      0.943      0.683      0.772      0.522\n",
      "\n",
      "      Epoch    GPU_mem   box_loss   cls_loss   dfl_loss  Instances       Size\n",
      "\u001b[K      32/50      5.64G        0.9      0.448     0.7912        249        640: 100% ━━━━━━━━━━━━ 16/16 2.4it/s 6.7s0.4s\n",
      "\u001b[K                 Class     Images  Instances      Box(P          R      mAP50  mAP50-95): 100% ━━━━━━━━━━━━ 3/3 5.6it/s 0.5s0.4s\n",
      "                   all         43       1025      0.777      0.664       0.73      0.496\n",
      "\n",
      "      Epoch    GPU_mem   box_loss   cls_loss   dfl_loss  Instances       Size\n",
      "\u001b[K      33/50      5.64G      0.891     0.4378      0.793         98        640: 100% ━━━━━━━━━━━━ 16/16 2.4it/s 6.7s0.4s\n",
      "\u001b[K                 Class     Images  Instances      Box(P          R      mAP50  mAP50-95): 100% ━━━━━━━━━━━━ 3/3 5.5it/s 0.5s0.4s\n",
      "                   all         43       1025      0.837      0.743       0.78      0.531\n",
      "\n",
      "      Epoch    GPU_mem   box_loss   cls_loss   dfl_loss  Instances       Size\n",
      "\u001b[K      34/50      5.64G     0.8793     0.4374     0.7925        148        640: 100% ━━━━━━━━━━━━ 16/16 2.4it/s 6.7s0.4s\n",
      "\u001b[K                 Class     Images  Instances      Box(P          R      mAP50  mAP50-95): 100% ━━━━━━━━━━━━ 3/3 5.4it/s 0.6s0.4s\n",
      "                   all         43       1025       0.89      0.705      0.791      0.528\n",
      "\n",
      "      Epoch    GPU_mem   box_loss   cls_loss   dfl_loss  Instances       Size\n",
      "\u001b[K      35/50      5.64G     0.8816     0.4335     0.7926        267        640: 100% ━━━━━━━━━━━━ 16/16 2.4it/s 6.8s0.4s\n",
      "\u001b[K                 Class     Images  Instances      Box(P          R      mAP50  mAP50-95): 100% ━━━━━━━━━━━━ 3/3 5.5it/s 0.5s0.4s\n",
      "                   all         43       1025      0.768      0.717      0.761       0.51\n",
      "\n",
      "      Epoch    GPU_mem   box_loss   cls_loss   dfl_loss  Instances       Size\n",
      "\u001b[K      36/50      5.64G     0.8638     0.4298     0.7887        216        640: 100% ━━━━━━━━━━━━ 16/16 2.4it/s 6.7s0.4s\n",
      "\u001b[K                 Class     Images  Instances      Box(P          R      mAP50  mAP50-95): 100% ━━━━━━━━━━━━ 3/3 5.5it/s 0.5s0.4s\n",
      "                   all         43       1025      0.903      0.671      0.759       0.52\n",
      "\n",
      "      Epoch    GPU_mem   box_loss   cls_loss   dfl_loss  Instances       Size\n",
      "\u001b[K      37/50      5.64G      0.868     0.4188     0.7848        191        640: 100% ━━━━━━━━━━━━ 16/16 2.4it/s 6.7s0.4s\n",
      "\u001b[K                 Class     Images  Instances      Box(P          R      mAP50  mAP50-95): 100% ━━━━━━━━━━━━ 3/3 5.5it/s 0.5s0.4s\n",
      "                   all         43       1025      0.808      0.722      0.765      0.529\n",
      "\n",
      "      Epoch    GPU_mem   box_loss   cls_loss   dfl_loss  Instances       Size\n",
      "\u001b[K      38/50      5.64G     0.8257     0.4121     0.7873        144        640: 100% ━━━━━━━━━━━━ 16/16 2.4it/s 6.8s0.4s\n",
      "\u001b[K                 Class     Images  Instances      Box(P          R      mAP50  mAP50-95): 100% ━━━━━━━━━━━━ 3/3 5.4it/s 0.6s0.4s\n",
      "                   all         43       1025      0.817      0.737      0.767      0.522\n",
      "\n",
      "      Epoch    GPU_mem   box_loss   cls_loss   dfl_loss  Instances       Size\n",
      "\u001b[K      39/50      5.64G     0.8296     0.4104     0.7852        115        640: 100% ━━━━━━━━━━━━ 16/16 2.4it/s 6.7s0.4s\n",
      "\u001b[K                 Class     Images  Instances      Box(P          R      mAP50  mAP50-95): 100% ━━━━━━━━━━━━ 3/3 5.6it/s 0.5s0.4s\n",
      "                   all         43       1025      0.904      0.676      0.772      0.513\n",
      "\n",
      "      Epoch    GPU_mem   box_loss   cls_loss   dfl_loss  Instances       Size\n",
      "\u001b[K      40/50      5.64G     0.8682     0.4199     0.7829        276        640: 100% ━━━━━━━━━━━━ 16/16 2.4it/s 6.8s0.4s\n",
      "\u001b[K                 Class     Images  Instances      Box(P          R      mAP50  mAP50-95): 100% ━━━━━━━━━━━━ 3/3 5.4it/s 0.6s0.4s\n",
      "                   all         43       1025      0.895      0.695      0.792      0.542\n",
      "Closing dataloader mosaic\n",
      "\u001b[34m\u001b[1malbumentations: \u001b[0mBlur(p=0.01, blur_limit=(3, 7)), MedianBlur(p=0.01, blur_limit=(3, 7)), ToGray(p=0.01, num_output_channels=3, method='weighted_average'), CLAHE(p=0.01, clip_limit=(1.0, 4.0), tile_grid_size=(8, 8))\n",
      "\n",
      "      Epoch    GPU_mem   box_loss   cls_loss   dfl_loss  Instances       Size\n",
      "\u001b[K      41/50      5.64G     0.8163     0.4129     0.7986        119        640: 100% ━━━━━━━━━━━━ 16/16 2.1it/s 7.6s0.4s\n",
      "\u001b[K                 Class     Images  Instances      Box(P          R      mAP50  mAP50-95): 100% ━━━━━━━━━━━━ 3/3 5.4it/s 0.6s0.4s\n",
      "                   all         43       1025      0.913      0.702      0.781      0.531\n",
      "\n",
      "      Epoch    GPU_mem   box_loss   cls_loss   dfl_loss  Instances       Size\n",
      "\u001b[K      42/50      5.64G     0.8155     0.4051     0.7906        120        640: 100% ━━━━━━━━━━━━ 16/16 2.4it/s 6.6s0.4s\n",
      "\u001b[K                 Class     Images  Instances      Box(P          R      mAP50  mAP50-95): 100% ━━━━━━━━━━━━ 3/3 5.4it/s 0.6s0.4s\n",
      "                   all         43       1025      0.822      0.713      0.775       0.54\n",
      "\n",
      "      Epoch    GPU_mem   box_loss   cls_loss   dfl_loss  Instances       Size\n",
      "\u001b[K      43/50      5.64G     0.8115     0.4106     0.7878        112        640: 100% ━━━━━━━━━━━━ 16/16 2.4it/s 6.6s0.4s\n",
      "\u001b[K                 Class     Images  Instances      Box(P          R      mAP50  mAP50-95): 100% ━━━━━━━━━━━━ 3/3 5.4it/s 0.6s0.4s\n",
      "                   all         43       1025      0.849      0.674      0.752      0.518\n",
      "\n",
      "      Epoch    GPU_mem   box_loss   cls_loss   dfl_loss  Instances       Size\n",
      "\u001b[K      44/50      5.64G     0.7935     0.4005     0.7828        119        640: 100% ━━━━━━━━━━━━ 16/16 2.4it/s 6.6s0.4s\n",
      "\u001b[K                 Class     Images  Instances      Box(P          R      mAP50  mAP50-95): 100% ━━━━━━━━━━━━ 3/3 5.4it/s 0.6s0.4s\n",
      "                   all         43       1025      0.899      0.667      0.752      0.529\n",
      "\n",
      "      Epoch    GPU_mem   box_loss   cls_loss   dfl_loss  Instances       Size\n",
      "\u001b[K      45/50      5.64G     0.7918     0.3915     0.7834        116        640: 100% ━━━━━━━━━━━━ 16/16 2.4it/s 6.6s0.4s\n",
      "\u001b[K                 Class     Images  Instances      Box(P          R      mAP50  mAP50-95): 100% ━━━━━━━━━━━━ 3/3 5.4it/s 0.6s0.4s\n",
      "                   all         43       1025      0.824      0.689      0.752      0.533\n",
      "\n",
      "      Epoch    GPU_mem   box_loss   cls_loss   dfl_loss  Instances       Size\n",
      "\u001b[K      46/50      5.64G     0.8219     0.3987     0.7852        118        640: 100% ━━━━━━━━━━━━ 16/16 2.4it/s 6.7s0.4s\n",
      "\u001b[K                 Class     Images  Instances      Box(P          R      mAP50  mAP50-95): 100% ━━━━━━━━━━━━ 3/3 5.5it/s 0.5s0.4s\n",
      "                   all         43       1025      0.815      0.714      0.757      0.534\n",
      "\n",
      "      Epoch    GPU_mem   box_loss   cls_loss   dfl_loss  Instances       Size\n",
      "\u001b[K      47/50      5.64G     0.7811     0.3815     0.7881        116        640: 100% ━━━━━━━━━━━━ 16/16 2.4it/s 6.6s0.4s\n",
      "\u001b[K                 Class     Images  Instances      Box(P          R      mAP50  mAP50-95): 100% ━━━━━━━━━━━━ 3/3 5.3it/s 0.6s0.4s\n",
      "                   all         43       1025      0.886      0.718      0.776       0.55\n",
      "\n",
      "      Epoch    GPU_mem   box_loss   cls_loss   dfl_loss  Instances       Size\n",
      "\u001b[K      48/50      5.64G     0.7988     0.3875     0.7863        121        640: 100% ━━━━━━━━━━━━ 16/16 2.4it/s 6.6s0.4s\n",
      "\u001b[K                 Class     Images  Instances      Box(P          R      mAP50  mAP50-95): 100% ━━━━━━━━━━━━ 3/3 5.6it/s 0.5s0.4s\n",
      "                   all         43       1025      0.886      0.718      0.784      0.545\n",
      "\n",
      "      Epoch    GPU_mem   box_loss   cls_loss   dfl_loss  Instances       Size\n",
      "\u001b[K      49/50      5.64G     0.7624     0.3739     0.7847        115        640: 100% ━━━━━━━━━━━━ 16/16 2.4it/s 6.6s0.4s\n",
      "\u001b[K                 Class     Images  Instances      Box(P          R      mAP50  mAP50-95): 100% ━━━━━━━━━━━━ 3/3 5.6it/s 0.5s0.4s\n",
      "                   all         43       1025      0.851       0.72      0.778      0.544\n",
      "\n",
      "      Epoch    GPU_mem   box_loss   cls_loss   dfl_loss  Instances       Size\n",
      "\u001b[K      50/50      5.64G     0.7578     0.3696     0.7814        118        640: 100% ━━━━━━━━━━━━ 16/16 2.4it/s 6.6s0.4s\n",
      "\u001b[K                 Class     Images  Instances      Box(P          R      mAP50  mAP50-95): 100% ━━━━━━━━━━━━ 3/3 5.4it/s 0.6s0.4s\n",
      "                   all         43       1025      0.881      0.713      0.778      0.555\n",
      "\n",
      "50 epochs completed in 0.117 hours.\n",
      "Optimizer stripped from /kaggle/working/football-object-detection-yolo11/yolov11l_finetune/weights/last.pt, 51.2MB\n",
      "Optimizer stripped from /kaggle/working/football-object-detection-yolo11/yolov11l_finetune/weights/best.pt, 51.2MB\n",
      "\n",
      "Validating /kaggle/working/football-object-detection-yolo11/yolov11l_finetune/weights/best.pt...\n",
      "Ultralytics 8.3.193 🚀 Python-3.11.11 torch-2.5.1+cu124 CUDA:0 (Tesla T4, 15095MiB)\n",
      "                                                        CUDA:1 (Tesla T4, 15095MiB)\n",
      "YOLO11l summary (fused): 190 layers, 25,282,396 parameters, 0 gradients, 86.6 GFLOPs\n",
      "\u001b[K                 Class     Images  Instances      Box(P          R      mAP50  mAP50-95): 100% ━━━━━━━━━━━━ 3/3 1.9it/s 1.6s1.0s\n"
     ]
    },
    {
     "name": "stderr",
     "output_type": "stream",
     "text": [
      "/usr/local/lib/python3.11/dist-packages/matplotlib/colors.py:721: RuntimeWarning: invalid value encountered in less\n",
      "  xa[xa < 0] = -1\n",
      "/usr/local/lib/python3.11/dist-packages/matplotlib/colors.py:721: RuntimeWarning: invalid value encountered in less\n",
      "  xa[xa < 0] = -1\n"
     ]
    },
    {
     "name": "stdout",
     "output_type": "stream",
     "text": [
      "                   all         43       1025      0.882      0.713      0.778      0.554\n",
      "                  ball         39         39       0.79      0.205      0.312      0.164\n",
      "            goalkeeper         32         32      0.927      0.797      0.904      0.695\n",
      "                player         43        853      0.945      0.948      0.984      0.779\n",
      "               referee         43        101      0.864      0.901       0.91      0.579\n",
      "Speed: 0.1ms preprocess, 8.5ms inference, 0.0ms loss, 1.3ms postprocess per image\n",
      "Saving /kaggle/working/football-object-detection-yolo11/yolov11l_finetune/predictions.json...\n",
      "Results saved to \u001b[1m/kaggle/working/football-object-detection-yolo11/yolov11l_finetune\u001b[0m\n"
     ]
    },
    {
     "name": "stderr",
     "output_type": "stream",
     "text": [
      "COMET INFO: ---------------------------------------------------------------------------------------\n",
      "COMET INFO: Comet.ml Experiment Summary\n",
      "COMET INFO: ---------------------------------------------------------------------------------------\n",
      "COMET INFO:   Data:\n",
      "COMET INFO:     display_summary_level : 1\n",
      "COMET INFO:     name                  : vital_budget_1054\n",
      "COMET INFO:     url                   : https://www.comet.com/aman-kr-ak03-gmail-com/football-object-detection-yolo11/e005f2bd2da24078b3e462a4dc69a5fe\n",
      "COMET INFO:   Metrics [count] (min, max):\n",
      "COMET INFO:     lr/pg0 [51]               : (3.7250000000000025e-05, 0.0011015)\n",
      "COMET INFO:     lr/pg1 [51]               : (3.7250000000000025e-05, 0.0011015)\n",
      "COMET INFO:     lr/pg2 [51]               : (3.7250000000000025e-05, 0.0011015)\n",
      "COMET INFO:     metrics/mAP50(B) [51]     : (0.08789, 0.79166)\n",
      "COMET INFO:     metrics/mAP50-95(B) [51]  : (0.04998, 0.55465)\n",
      "COMET INFO:     metrics/precision(B) [51] : (0.1145, 0.94254)\n",
      "COMET INFO:     metrics/recall(B) [51]    : (0.14169, 0.74294)\n",
      "COMET INFO:     model/GFLOPs              : 87.287\n",
      "COMET INFO:     model/parameters          : 25313564\n",
      "COMET INFO:     model/speed_PyTorch(ms)   : 9.503\n",
      "COMET INFO:     train/box_loss [50]       : (0.75779, 1.5053)\n",
      "COMET INFO:     train/cls_loss [50]       : (0.36957, 3.42065)\n",
      "COMET INFO:     train/dfl_loss [50]       : (0.78144, 0.85881)\n",
      "COMET INFO:     val/box_loss [50]         : (0.76958, 1.53809)\n",
      "COMET INFO:     val/cls_loss [50]         : (0.40077, inf)\n",
      "COMET INFO:     val/dfl_loss [50]         : (0.78333, 0.87412)\n",
      "COMET INFO:   Others:\n",
      "COMET INFO:     Created from                 : ultralytics\n",
      "COMET INFO:     eval_batch_logging_interval  : 1\n",
      "COMET INFO:     log_confusion_matrix_on_eval : False\n",
      "COMET INFO:     log_image_predictions        : True\n",
      "COMET INFO:     max_image_predictions        : 100\n",
      "COMET INFO:   Parameters:\n",
      "COMET INFO:     agnostic_nms    : False\n",
      "COMET INFO:     amp             : True\n",
      "COMET INFO:     augment         : False\n",
      "COMET INFO:     auto_augment    : randaugment\n",
      "COMET INFO:     batch           : 16\n",
      "COMET INFO:     bgr             : 0.0\n",
      "COMET INFO:     box             : 7.5\n",
      "COMET INFO:     cache           : False\n",
      "COMET INFO:     cfg             : None\n",
      "COMET INFO:     classes         : None\n",
      "COMET INFO:     close_mosaic    : 10\n",
      "COMET INFO:     cls             : 0.5\n",
      "COMET INFO:     conf            : None\n",
      "COMET INFO:     copy_paste      : 0.0\n",
      "COMET INFO:     copy_paste_mode : flip\n",
      "COMET INFO:     cos_lr          : False\n",
      "COMET INFO:     cutmix          : 0.0\n",
      "COMET INFO:     data            : /kaggle/input/football-players-detection-dataset/data.yaml\n",
      "COMET INFO:     degrees         : 0.0\n",
      "COMET INFO:     deterministic   : True\n",
      "COMET INFO:     device          : 0,1\n",
      "COMET INFO:     dfl             : 1.5\n",
      "COMET INFO:     dnn             : False\n",
      "COMET INFO:     dropout         : 0.0\n",
      "COMET INFO:     dynamic         : False\n",
      "COMET INFO:     embed           : None\n",
      "COMET INFO:     epochs          : 50\n",
      "COMET INFO:     erasing         : 0.4\n",
      "COMET INFO:     exist_ok        : False\n",
      "COMET INFO:     fliplr          : 0.5\n",
      "COMET INFO:     flipud          : 0.0\n",
      "COMET INFO:     format          : torchscript\n",
      "COMET INFO:     fraction        : 1.0\n",
      "COMET INFO:     freeze          : None\n",
      "COMET INFO:     half            : False\n",
      "COMET INFO:     hsv_h           : 0.015\n",
      "COMET INFO:     hsv_s           : 0.7\n",
      "COMET INFO:     hsv_v           : 0.4\n",
      "COMET INFO:     imgsz           : 640\n",
      "COMET INFO:     int8            : False\n",
      "COMET INFO:     iou             : 0.7\n",
      "COMET INFO:     keras           : False\n",
      "COMET INFO:     kobj            : 1.0\n",
      "COMET INFO:     line_width      : None\n",
      "COMET INFO:     lr0             : 0.01\n",
      "COMET INFO:     lrf             : 0.01\n",
      "COMET INFO:     mask_ratio      : 4\n",
      "COMET INFO:     max_det         : 300\n",
      "COMET INFO:     mixup           : 0.0\n",
      "COMET INFO:     mode            : train\n",
      "COMET INFO:     model           : /kaggle/input/yolo11/pytorch/default/1/yolo11l.pt\n",
      "COMET INFO:     momentum        : 0.937\n",
      "COMET INFO:     mosaic          : 1.0\n",
      "COMET INFO:     multi_scale     : False\n",
      "COMET INFO:     name            : yolov11l_finetune\n",
      "COMET INFO:     nbs             : 64\n",
      "COMET INFO:     nms             : False\n",
      "COMET INFO:     opset           : None\n",
      "COMET INFO:     optimize        : False\n",
      "COMET INFO:     optimizer       : auto\n",
      "COMET INFO:     overlap_mask    : True\n",
      "COMET INFO:     patience        : 100\n",
      "COMET INFO:     perspective     : 0.0\n",
      "COMET INFO:     plots           : True\n",
      "COMET INFO:     pose            : 12.0\n",
      "COMET INFO:     pretrained      : True\n",
      "COMET INFO:     profile         : False\n",
      "COMET INFO:     project         : football-object-detection-yolo11\n",
      "COMET INFO:     rect            : False\n",
      "COMET INFO:     resume          : False\n",
      "COMET INFO:     retina_masks    : False\n",
      "COMET INFO:     save            : True\n",
      "COMET INFO:     save_conf       : False\n",
      "COMET INFO:     save_crop       : False\n",
      "COMET INFO:     save_dir        : /kaggle/working/football-object-detection-yolo11/yolov11l_finetune\n",
      "COMET INFO:     save_frames     : False\n",
      "COMET INFO:     save_json       : True\n",
      "COMET INFO:     save_period     : -1\n",
      "COMET INFO:     save_txt        : False\n",
      "COMET INFO:     scale           : 0.5\n",
      "COMET INFO:     seed            : 0\n",
      "COMET INFO:     shear           : 0.0\n",
      "COMET INFO:     show            : False\n",
      "COMET INFO:     show_boxes      : True\n",
      "COMET INFO:     show_conf       : True\n",
      "COMET INFO:     show_labels     : True\n",
      "COMET INFO:     simplify        : True\n",
      "COMET INFO:     single_cls      : False\n",
      "COMET INFO:     source          : None\n",
      "COMET INFO:     split           : val\n",
      "COMET INFO:     stream_buffer   : False\n",
      "COMET INFO:     task            : detect\n",
      "COMET INFO:     time            : None\n",
      "COMET INFO:     tracker         : botsort.yaml\n",
      "COMET INFO:     translate       : 0.1\n",
      "COMET INFO:     val             : True\n",
      "COMET INFO:     verbose         : True\n",
      "COMET INFO:     vid_stride      : 1\n",
      "COMET INFO:     visualize       : False\n",
      "COMET INFO:     warmup_bias_lr  : 0.1\n",
      "COMET INFO:     warmup_epochs   : 3.0\n",
      "COMET INFO:     warmup_momentum : 0.8\n",
      "COMET INFO:     weight_decay    : 0.0005\n",
      "COMET INFO:     workers         : 8\n",
      "COMET INFO:     workspace       : None\n",
      "COMET INFO:   Uploads:\n",
      "COMET INFO:     asset               : 2 (7.71 KB)\n",
      "COMET INFO:     confusion-matrix    : 1\n",
      "COMET INFO:     environment details : 1\n",
      "COMET INFO:     filename            : 1\n",
      "COMET INFO:     images              : 62\n",
      "COMET INFO:     installed packages  : 1\n",
      "COMET INFO:     model-element       : 1 (48.80 MB)\n",
      "COMET INFO:     os packages         : 1\n",
      "COMET INFO:     source_code         : 2 (27.27 KB)\n",
      "COMET INFO: \n",
      "COMET WARNING: To get all data logged automatically, import comet_ml before the following modules: torch.\n",
      "COMET INFO: Please wait for assets to finish uploading (timeout is 10800 seconds)\n",
      "COMET INFO: Still uploading 32 file(s), remaining 9.24 MB/58.28 MB\n"
     ]
    }
   ],
   "source": [
    "# Train the model with the half parameters unfrozen\n",
    "#yolo selects the gpu automatically so no need to sent onto gpu\n",
    "results = model.train(\n",
    "    data='/kaggle/input/football-players-detection-dataset/data.yaml',  # Path to the data configuration file\n",
    "    epochs=50,                  # Number of training epochs\n",
    "    imgsz=640,                  # Image size\n",
    "    batch=16,                   # Batch size\n",
    "    name='yolov11l_finetune',   # Name of the training run\n",
    "    project=\"football-object-detection-yolo11\",\n",
    "    save_json=True,\n",
    "    plots = True,\n",
    "    device=[0,1],\n",
    ")"
   ]
  },
  {
   "cell_type": "markdown",
   "metadata": {},
   "source": [
    "### I wanted to download my training output weights, so I converted into Zip"
   ]
  },
  {
   "cell_type": "code",
   "execution_count": 18,
   "metadata": {
    "execution": {
     "iopub.execute_input": "2025-09-05T15:36:42.883905Z",
     "iopub.status.busy": "2025-09-05T15:36:42.883294Z",
     "iopub.status.idle": "2025-09-05T15:36:42.887250Z",
     "shell.execute_reply": "2025-09-05T15:36:42.886601Z",
     "shell.execute_reply.started": "2025-09-05T15:36:42.883882Z"
    },
    "trusted": true
   },
   "outputs": [],
   "source": [
    "nested_path = \"/kaggle/working/Saved_Model/\"\n",
    "os.mkdir(nested_path)"
   ]
  },
  {
   "cell_type": "code",
   "execution_count": 24,
   "metadata": {
    "execution": {
     "iopub.execute_input": "2025-09-05T15:41:10.321211Z",
     "iopub.status.busy": "2025-09-05T15:41:10.320437Z",
     "iopub.status.idle": "2025-09-05T15:41:35.474312Z",
     "shell.execute_reply": "2025-09-05T15:41:35.473693Z",
     "shell.execute_reply.started": "2025-09-05T15:41:10.321185Z"
    },
    "trusted": true
   },
   "outputs": [
    {
     "name": "stdout",
     "output_type": "stream",
     "text": [
      "Ultralytics 8.3.193 🚀 Python-3.11.11 torch-2.5.1+cu124 CPU (Intel Xeon 2.00GHz)\n",
      "💡 ProTip: Export to OpenVINO format for best performance on Intel hardware. Learn more at https://docs.ultralytics.com/integrations/openvino/\n",
      "YOLO11l summary (fused): 190 layers, 25,282,396 parameters, 0 gradients, 86.6 GFLOPs\n",
      "\n",
      "\u001b[34m\u001b[1mPyTorch:\u001b[0m starting from '/kaggle/working/football-object-detection-yolo11/yolov11l_finetune/weights/best.pt' with input shape (1, 3, 640, 640) BCHW and output shape(s) (1, 8, 8400) (48.8 MB)\n",
      "\u001b[31m\u001b[1mrequirements:\u001b[0m Ultralytics requirements ['onnxslim==0.1.65', 'onnxruntime-gpu'] not found, attempting AutoUpdate...\n",
      "\n",
      "\u001b[31m\u001b[1mrequirements:\u001b[0m AutoUpdate success ✅ 4.8s\n",
      "WARNING ⚠️ \u001b[31m\u001b[1mrequirements:\u001b[0m \u001b[1mRestart runtime or rerun command for updates to take effect\u001b[0m\n",
      "\n",
      "\n",
      "\u001b[34m\u001b[1mONNX:\u001b[0m starting export with onnx 1.17.0 opset 19...\n",
      "\u001b[34m\u001b[1mONNX:\u001b[0m slimming with onnxslim 0.1.65...\n",
      "\u001b[34m\u001b[1mONNX:\u001b[0m export success ✅ 12.7s, saved as '/kaggle/working/football-object-detection-yolo11/yolov11l_finetune/weights/best.onnx' (96.8 MB)\n",
      "\n",
      "Export complete (15.0s)\n",
      "Results saved to \u001b[1m/kaggle/working/football-object-detection-yolo11/yolov11l_finetune/weights\u001b[0m\n",
      "Predict:         yolo predict task=detect model=/kaggle/working/football-object-detection-yolo11/yolov11l_finetune/weights/best.onnx imgsz=640  \n",
      "Validate:        yolo val task=detect model=/kaggle/working/football-object-detection-yolo11/yolov11l_finetune/weights/best.onnx imgsz=640 data=/kaggle/input/football-players-detection-dataset/data.yaml  \n",
      "Visualize:       https://netron.app\n",
      "Ultralytics 8.3.193 🚀 Python-3.11.11 torch-2.5.1+cu124 CPU (Intel Xeon 2.00GHz)\n",
      "YOLO11l summary (fused): 190 layers, 25,282,396 parameters, 0 gradients, 86.6 GFLOPs\n",
      "\n",
      "\u001b[34m\u001b[1mPyTorch:\u001b[0m starting from '/kaggle/working/football-object-detection-yolo11/yolov11l_finetune/weights/best.pt' with input shape (1, 3, 640, 640) BCHW and output shape(s) (1, 8, 8400) (48.8 MB)\n",
      "\n",
      "\u001b[34m\u001b[1mTorchScript:\u001b[0m starting export with torch 2.5.1+cu124...\n",
      "\u001b[34m\u001b[1mTorchScript:\u001b[0m export success ✅ 7.7s, saved as '/kaggle/working/football-object-detection-yolo11/yolov11l_finetune/weights/best.torchscript' (97.4 MB)\n",
      "\n",
      "Export complete (10.1s)\n",
      "Results saved to \u001b[1m/kaggle/working/football-object-detection-yolo11/yolov11l_finetune/weights\u001b[0m\n",
      "Predict:         yolo predict task=detect model=/kaggle/working/football-object-detection-yolo11/yolov11l_finetune/weights/best.torchscript imgsz=640  \n",
      "Validate:        yolo val task=detect model=/kaggle/working/football-object-detection-yolo11/yolov11l_finetune/weights/best.torchscript imgsz=640 data=/kaggle/input/football-players-detection-dataset/data.yaml  \n",
      "Visualize:       https://netron.app\n",
      "✅ Full model Checkpoints to /kaggle/working/football-object-detection-yolo11/yolov11l_finetune/weights/best.onnx\n",
      "✅ Full model Checkpoints to /kaggle/working/football-object-detection-yolo11/yolov11l_finetune/weights/best.torchscript\n"
     ]
    }
   ],
   "source": [
    "\n",
    "onnxPath = model.export(format=\"onnx\")\n",
    "torchScript_path = model.export(format=\"torchscript\")\n",
    "\n",
    "print(f\"✅ Full model Checkpoints to {onnxPath}\")\n",
    "print(f\"✅ Full model Checkpoints to {torchScript_path}\")\n"
   ]
  },
  {
   "cell_type": "code",
   "execution_count": 25,
   "metadata": {
    "execution": {
     "iopub.execute_input": "2025-09-05T15:43:01.173010Z",
     "iopub.status.busy": "2025-09-05T15:43:01.172264Z",
     "iopub.status.idle": "2025-09-05T15:43:16.771003Z",
     "shell.execute_reply": "2025-09-05T15:43:16.770113Z",
     "shell.execute_reply.started": "2025-09-05T15:43:01.172988Z"
    },
    "trusted": true
   },
   "outputs": [
    {
     "name": "stdout",
     "output_type": "stream",
     "text": [
      "/kaggle/working\n",
      "updating: football-object-detection-yolo11/ (stored 0%)\n",
      "updating: football-object-detection-yolo11/yolov11l_finetune/ (stored 0%)\n",
      "updating: football-object-detection-yolo11/yolov11l_finetune/val_batch2_labels.jpg (deflated 7%)\n",
      "updating: football-object-detection-yolo11/yolov11l_finetune/results.csv (deflated 61%)\n",
      "updating: football-object-detection-yolo11/yolov11l_finetune/labels.jpg (deflated 30%)\n",
      "updating: football-object-detection-yolo11/yolov11l_finetune/val_batch0_pred.jpg (deflated 4%)\n",
      "updating: football-object-detection-yolo11/yolov11l_finetune/results.png (deflated 8%)\n",
      "updating: football-object-detection-yolo11/yolov11l_finetune/val_batch0_labels.jpg (deflated 5%)\n",
      "updating: football-object-detection-yolo11/yolov11l_finetune/BoxPR_curve.png (deflated 13%)\n",
      "updating: football-object-detection-yolo11/yolov11l_finetune/train_batch640.jpg (deflated 9%)\n",
      "updating: football-object-detection-yolo11/yolov11l_finetune/train_batch642.jpg (deflated 10%)\n",
      "updating: football-object-detection-yolo11/yolov11l_finetune/BoxP_curve.png (deflated 13%)\n",
      "updating: football-object-detection-yolo11/yolov11l_finetune/val_batch1_pred.jpg (deflated 5%)\n",
      "updating: football-object-detection-yolo11/yolov11l_finetune/train_batch0.jpg (deflated 6%)\n",
      "updating: football-object-detection-yolo11/yolov11l_finetune/predictions.json (deflated 92%)\n",
      "updating: football-object-detection-yolo11/yolov11l_finetune/BoxR_curve.png (deflated 9%)\n",
      "updating: football-object-detection-yolo11/yolov11l_finetune/weights/ (stored 0%)\n",
      "updating: football-object-detection-yolo11/yolov11l_finetune/weights/best.pt (deflated 8%)\n",
      "updating: football-object-detection-yolo11/yolov11l_finetune/weights/last.pt (deflated 8%)\n",
      "updating: football-object-detection-yolo11/yolov11l_finetune/confusion_matrix_normalized.png (deflated 24%)\n",
      "updating: football-object-detection-yolo11/yolov11l_finetune/val_batch1_labels.jpg (deflated 5%)\n",
      "updating: football-object-detection-yolo11/yolov11l_finetune/train_batch641.jpg (deflated 13%)\n",
      "updating: football-object-detection-yolo11/yolov11l_finetune/BoxF1_curve.png (deflated 8%)\n",
      "updating: football-object-detection-yolo11/yolov11l_finetune/val_batch2_pred.jpg (deflated 6%)\n",
      "updating: football-object-detection-yolo11/yolov11l_finetune/confusion_matrix.png (deflated 27%)\n",
      "updating: football-object-detection-yolo11/yolov11l_finetune/train_batch2.jpg (deflated 5%)\n",
      "updating: football-object-detection-yolo11/yolov11l_finetune/args.yaml (deflated 53%)\n",
      "updating: football-object-detection-yolo11/yolov11l_finetune/train_batch1.jpg (deflated 5%)\n",
      "  adding: football-object-detection-yolo11/yolov11l_finetune/weights/best.onnx (deflated 16%)\n",
      "  adding: football-object-detection-yolo11/yolov11l_finetune/weights/best.torchscript (deflated 16%)\n"
     ]
    }
   ],
   "source": [
    "%cd /kaggle/working\n",
    "!zip -r model_saved.zip football-object-detection-yolo11/"
   ]
  },
  {
   "cell_type": "code",
   "execution_count": 26,
   "metadata": {
    "execution": {
     "iopub.execute_input": "2025-09-05T15:43:48.479131Z",
     "iopub.status.busy": "2025-09-05T15:43:48.478736Z",
     "iopub.status.idle": "2025-09-05T15:43:48.484816Z",
     "shell.execute_reply": "2025-09-05T15:43:48.483990Z",
     "shell.execute_reply.started": "2025-09-05T15:43:48.479095Z"
    },
    "trusted": true
   },
   "outputs": [
    {
     "data": {
      "text/html": [
       "<a href='model_saved.zip' target='_blank'>model_saved.zip</a><br>"
      ],
      "text/plain": [
       "/kaggle/working/model_saved.zip"
      ]
     },
     "execution_count": 26,
     "metadata": {},
     "output_type": "execute_result"
    }
   ],
   "source": [
    "from IPython.display import FileLink\n",
    "FileLink(r'model_saved.zip')"
   ]
  }
 ],
 "metadata": {
  "accelerator": "GPU",
  "colab": {
   "gpuType": "T4",
   "provenance": []
  },
  "kaggle": {
   "accelerator": "nvidiaTeslaT4",
   "dataSources": [
    {
     "datasetId": 5033775,
     "sourceId": 8447562,
     "sourceType": "datasetVersion"
    },
    {
     "isSourceIdPinned": true,
     "modelId": 141350,
     "modelInstanceId": 118113,
     "sourceId": 139474,
     "sourceType": "modelInstanceVersion"
    }
   ],
   "dockerImageVersionId": 31011,
   "isGpuEnabled": true,
   "isInternetEnabled": true,
   "language": "python",
   "sourceType": "notebook"
  },
  "kernelspec": {
   "display_name": "football-object-detection-yolo11",
   "language": "python",
   "name": "python3"
  },
  "language_info": {
   "codemirror_mode": {
    "name": "ipython",
    "version": 3
   },
   "file_extension": ".py",
   "mimetype": "text/x-python",
   "name": "python",
   "nbconvert_exporter": "python",
   "pygments_lexer": "ipython3",
   "version": "3.12.9"
  }
 },
 "nbformat": 4,
 "nbformat_minor": 4
}
