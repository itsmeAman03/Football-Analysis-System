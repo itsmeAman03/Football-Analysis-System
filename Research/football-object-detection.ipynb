{
 "cells": [
  {
   "cell_type": "markdown",
   "metadata": {},
   "source": [
    "## ⚽ Football Object Detection using YOLOv11-Large\n",
    "\n",
    "This model is designed to detect key entities on a football field:  \n",
    "- 🧤 **Goalkeeper**  \n",
    "- 🧍 **Player**  \n",
    "- ⚪ **Ball**  \n",
    "- 🧑‍⚖️ **Referee**\n",
    "\n",
    "Built on the powerful **YOLOv11-Large** architecture with transfer learning, the first half of the layers were frozen to retain general features while fine-tuning the rest on football-specific data.\n",
    "\n",
    "---\n",
    "\n",
    "### 🔧 Configuration\n",
    "\n",
    "- **Architecture**: YOLOv11-Large\n",
    "- **Frozen Layers**: First half\n",
    "- **Pre-trained Weights**: Used\n",
    "- **Epochs Trained**: 50\n",
    "- **Learning Rate**: ~3.73e-5 (pg0/pg1/pg2)\n",
    "- **Train Duration**: 539 minutes\n",
    "- **Model Size**: 25.3M parameters, 87.3 GFLOPs\n",
    "\n",
    "---\n",
    "\n",
    "### 📊 Evaluation Metrics\n",
    "\n",
    "> *Values are reported as: Final / Best during training*\n",
    "\n",
    "| Metric                     | Final      | Best (Min)    |\n",
    "|----------------------------|------------|---------------|\n",
    "| **mAP@50-95 (val)**        | 0.53167    | 0.53167       |\n",
    "| **mAP@50 (val)**           | 0.81680    | 0.81737       |\n",
    "| **Precision (val)**        | 0.90306    | 0.91265       |\n",
    "| **Recall (val)**           | 0.74100    | 0.78776       |\n",
    "| **Box Loss (train)**       | 0.84756    | 0.83256       |\n",
    "| **Class Loss (train)**     | 0.41376    | 0.40873       |\n",
    "| **DFL Loss (train)**       | 0.80578    | 0.80386       |\n",
    "| **Box Loss (val)**         | 0.86958    | 0.86958       |\n",
    "| **Class Loss (val)**       | 0.42202    | 0.42202       |\n",
    "| **DFL Loss (val)**         | 0.81992    | 0.81951       |\n",
    "\n",
    "---\n",
    "\n",
    "### 🧪 Notes\n",
    "\n",
    "- The model converged smoothly with no signs of overfitting.\n",
    "- High **precision (0.91)** and solid **recall (0.78)** suggest strong localization and classification.\n",
    "- Model complexity (87.3 GFLOPs) makes it suitable for powerful edge or server-side deployment.\n",
    "\n",
    "---\n",
    "\n",
    "### 🚀 Potential Use Cases\n",
    "\n",
    "- **Real-time football analytics**\n",
    "- **Referee decision assist systems**\n",
    "- **Player movement tracking & ball possession**\n",
    "- **Broadcast visuals enhancement**\n",
    "\n"
   ]
  },
  {
   "cell_type": "markdown",
   "metadata": {},
   "source": [
    "### Installing Dependencies"
   ]
  },
  {
   "cell_type": "code",
   "execution_count": null,
   "metadata": {
    "execution": {
     "iopub.execute_input": "2025-10-14T11:43:18.944561Z",
     "iopub.status.busy": "2025-10-14T11:43:18.944345Z",
     "iopub.status.idle": "2025-10-14T11:44:46.367176Z",
     "shell.execute_reply": "2025-10-14T11:44:46.366490Z",
     "shell.execute_reply.started": "2025-10-14T11:43:18.944533Z"
    },
    "id": "-z1GCFLvnUTE",
    "outputId": "dfa3e271-ae97-4003-8477-413277a84e85",
    "trusted": true
   },
   "outputs": [],
   "source": [
    "# !pip3 install -qU torch torchvision torchaudio \n",
    "%pip install -qU comet_ml\n",
    "%pip install -qU ultralytics"
   ]
  },
  {
   "cell_type": "markdown",
   "metadata": {},
   "source": [
    "### Importing Dependency"
   ]
  },
  {
   "cell_type": "code",
   "execution_count": null,
   "metadata": {
    "execution": {
     "iopub.execute_input": "2025-10-14T11:44:46.369448Z",
     "iopub.status.busy": "2025-10-14T11:44:46.369207Z",
     "iopub.status.idle": "2025-10-14T11:44:51.570730Z",
     "shell.execute_reply": "2025-10-14T11:44:51.569949Z",
     "shell.execute_reply.started": "2025-10-14T11:44:46.369428Z"
    },
    "id": "tMkNAFmy3Y3g",
    "trusted": true
   },
   "outputs": [],
   "source": [
    "import comet_ml\n",
    "import torch\n",
    "from ultralytics import YOLO\n",
    "import urllib.request as request\n",
    "import os\n",
    "from pathlib import Path\n",
    "import zipfile\n"
   ]
  },
  {
   "cell_type": "markdown",
   "metadata": {},
   "source": [
    "## Preparing Dataset\n",
    "- You can use the same dataset from kaggle as well which is also shown in in input section"
   ]
  },
  {
   "cell_type": "code",
   "execution_count": null,
   "metadata": {
    "execution": {
     "iopub.execute_input": "2025-04-20T19:43:42.203084Z",
     "iopub.status.busy": "2025-04-20T19:43:42.202593Z",
     "iopub.status.idle": "2025-04-20T19:43:42.206381Z",
     "shell.execute_reply": "2025-04-20T19:43:42.205755Z",
     "shell.execute_reply.started": "2025-04-20T19:43:42.203063Z"
    },
    "id": "m7caTKKBrPzF",
    "trusted": true
   },
   "outputs": [],
   "source": [
    "# #Model foe getting the size of dataset\n",
    "\n",
    "# def get_size(path: Path) -> str:\n",
    "#     \"\"\"get size in KB\n",
    "\n",
    "#     Args:\n",
    "#         path (Path): path of the file\n",
    "\n",
    "#     Returns:\n",
    "#         str: size in KB\n",
    "#     \"\"\"\n",
    "#     size_in_kb = round(os.path.getsize(path)/1024)\n",
    "#     return f\"~ {size_in_kb} KB\""
   ]
  },
  {
   "cell_type": "code",
   "execution_count": null,
   "metadata": {
    "execution": {
     "iopub.execute_input": "2025-04-20T19:43:42.795323Z",
     "iopub.status.busy": "2025-04-20T19:43:42.794859Z",
     "iopub.status.idle": "2025-04-20T19:43:42.799255Z",
     "shell.execute_reply": "2025-04-20T19:43:42.798187Z",
     "shell.execute_reply.started": "2025-04-20T19:43:42.795291Z"
    },
    "id": "XRgfJrv7pSfz",
    "trusted": true
   },
   "outputs": [],
   "source": [
    "\n",
    "# data_url = r\"https://github.com/itsmeAman03/My_datasets/raw/refs/heads/main/Football-Players-Detection-Dataset.zip\"\n",
    "# data_name = \"football-obd.zip\"\n",
    "# unzip_dir = \"football-obd\""
   ]
  },
  {
   "cell_type": "code",
   "execution_count": null,
   "metadata": {
    "execution": {
     "iopub.execute_input": "2025-04-20T19:43:43.102406Z",
     "iopub.status.busy": "2025-04-20T19:43:43.102189Z",
     "iopub.status.idle": "2025-04-20T19:43:43.105744Z",
     "shell.execute_reply": "2025-04-20T19:43:43.105074Z",
     "shell.execute_reply.started": "2025-04-20T19:43:43.102389Z"
    },
    "id": "l6qnmu9doVbi",
    "trusted": true
   },
   "outputs": [],
   "source": [
    "#Data Download function\n",
    "# def download_file(data_url,data_name):\n",
    "#     if not os.path.exists(data_name):\n",
    "#         filename, headers = request.urlretrieve(\n",
    "#             url = data_url,\n",
    "#             filename = data_name\n",
    "#         )\n",
    "#         print(f\"{filename} download! with following info: \\n{headers}\")\n",
    "#     else:\n",
    "#       print(f\"File already exists of size: {get_size(Path(data_name))}\")"
   ]
  },
  {
   "cell_type": "code",
   "execution_count": null,
   "metadata": {
    "execution": {
     "iopub.execute_input": "2025-04-20T19:43:43.307160Z",
     "iopub.status.busy": "2025-04-20T19:43:43.306942Z",
     "iopub.status.idle": "2025-04-20T19:43:43.310504Z",
     "shell.execute_reply": "2025-04-20T19:43:43.309768Z",
     "shell.execute_reply.started": "2025-04-20T19:43:43.307143Z"
    },
    "id": "DabTumnBo-2J",
    "trusted": true
   },
   "outputs": [],
   "source": [
    "# #Data Extract function\n",
    "# def extract_zip_file(unzip_dir,data_name):\n",
    "#     \"\"\"\n",
    "#     zip_file_path: str\n",
    "#     Extracts the zip file into the data directory\n",
    "#     Function returns None\n",
    "#     \"\"\"\n",
    "#     unzip_path = Path(unzip_dir)\n",
    "#     os.makedirs(unzip_path, exist_ok=True)\n",
    "#     with zipfile.ZipFile(data_name, 'r') as zip_ref:\n",
    "#       zip_ref.extractall(unzip_path)\n"
   ]
  },
  {
   "cell_type": "code",
   "execution_count": null,
   "metadata": {
    "execution": {
     "iopub.execute_input": "2025-04-20T19:43:43.543625Z",
     "iopub.status.busy": "2025-04-20T19:43:43.543414Z",
     "iopub.status.idle": "2025-04-20T19:43:43.547379Z",
     "shell.execute_reply": "2025-04-20T19:43:43.546615Z",
     "shell.execute_reply.started": "2025-04-20T19:43:43.543603Z"
    },
    "id": "nhe_JbSisGbD",
    "outputId": "3d73672f-97e4-4b55-b8d8-376f386ca959",
    "trusted": true
   },
   "outputs": [],
   "source": [
    "# STAGE_NAME = \"Data Ingestion Stage\"\n",
    "\n",
    "# try:\n",
    "#   print(f\">>>>>> Stage {STAGE_NAME} Started <<<<<<\")\n",
    "#   download_file(data_url,data_name)\n",
    "#   extract_zip_file(unzip_dir,data_name)\n",
    "#   print(f\">>>>>> Stage {STAGE_NAME} Completed <<<<<<\\n\\nX-----------------X\")\n",
    "# except Exception as e:\n",
    "#   print(\"f An error occurred while executing the Data Ingest stage.\\n {e}\")"
   ]
  },
  {
   "cell_type": "code",
   "execution_count": null,
   "metadata": {
    "execution": {
     "iopub.execute_input": "2025-10-14T11:45:03.009320Z",
     "iopub.status.busy": "2025-10-14T11:45:03.009016Z",
     "iopub.status.idle": "2025-10-14T11:45:03.790449Z",
     "shell.execute_reply": "2025-10-14T11:45:03.789706Z",
     "shell.execute_reply.started": "2025-10-14T11:45:03.009297Z"
    },
    "id": "RdDQbFvBv_SG",
    "trusted": true
   },
   "outputs": [],
   "source": [
    "#Loading the model\n",
    "model = YOLO(\"/kaggle/input/yolo11/pytorch/default/1/yolo11l.pt\")"
   ]
  },
  {
   "cell_type": "code",
   "execution_count": null,
   "metadata": {
    "execution": {
     "iopub.execute_input": "2025-10-14T11:45:08.387458Z",
     "iopub.status.busy": "2025-10-14T11:45:08.386819Z",
     "iopub.status.idle": "2025-10-14T11:45:08.394451Z",
     "shell.execute_reply": "2025-10-14T11:45:08.393702Z",
     "shell.execute_reply.started": "2025-10-14T11:45:08.387433Z"
    },
    "id": "KP6iY4_EwK8-",
    "outputId": "fca3bd2e-5b1a-4d55-8f14-34bd712866a3",
    "trusted": true
   },
   "outputs": [],
   "source": [
    "# Freeze the first N layers of the model (by module, not by parameter order)\n",
    "\n",
    "modules = list(model.model.children())  # model.model is usually nn.Sequential in YOLO\n",
    "print(f\"Total modules in model.model: {len(modules)}\")\n",
    "\n",
    "N = 2*(len(modules)//3) # Set N to the number of layers you want to freeze\n",
    "\n",
    "for i, module in enumerate(modules):\n",
    "    if i < N:\n",
    "        for param in module.parameters():\n",
    "            param.requires_grad = False\n",
    "        print(f\"Froze module {i}: {module.__class__.__name__}\")\n",
    "    else:\n",
    "        for param in module.parameters():\n",
    "            param.requires_grad = True\n",
    "\n",
    "# Check how many parameters are trainable\n",
    "trainable = sum(p.requires_grad for p in model.parameters())\n",
    "total = sum(1 for _ in model.parameters())\n",
    "print(f\"Trainable parameters: {trainable}/{total}\")"
   ]
  },
  {
   "cell_type": "code",
   "execution_count": null,
   "metadata": {
    "execution": {
     "iopub.execute_input": "2025-10-14T11:45:29.756561Z",
     "iopub.status.busy": "2025-10-14T11:45:29.756283Z",
     "iopub.status.idle": "2025-10-14T11:45:29.790948Z",
     "shell.execute_reply": "2025-10-14T11:45:29.790387Z",
     "shell.execute_reply.started": "2025-10-14T11:45:29.756539Z"
    },
    "id": "xY7ANFC20F2b",
    "outputId": "3557b031-89e8-43f7-883c-360f6da4b77a",
    "trusted": true
   },
   "outputs": [],
   "source": [
    "total_gpu = torch.cuda.device_count()\n",
    "print(f\"Number of GPUs available: {total_gpu}\")"
   ]
  },
  {
   "cell_type": "markdown",
   "metadata": {},
   "source": [
    "## I have used CometML for my Model training logging and ultraritics provide the simple addition in the code to CometML Experimentation"
   ]
  },
  {
   "cell_type": "code",
   "execution_count": null,
   "metadata": {
    "execution": {
     "iopub.execute_input": "2025-10-14T11:45:31.763395Z",
     "iopub.status.busy": "2025-10-14T11:45:31.762582Z",
     "iopub.status.idle": "2025-10-14T11:45:31.847171Z",
     "shell.execute_reply": "2025-10-14T11:45:31.846610Z",
     "shell.execute_reply.started": "2025-10-14T11:45:31.763369Z"
    },
    "trusted": true
   },
   "outputs": [],
   "source": [
    "# from kaggle_secrets import UserSecretsClient\n",
    "# user_secrets = UserSecretsClient()\n",
    "# COMET_API_KEY = user_secrets.get_secret(\"COMET_API_KEY\")"
   ]
  },
  {
   "cell_type": "code",
   "execution_count": null,
   "metadata": {
    "execution": {
     "iopub.execute_input": "2025-10-14T11:45:35.276169Z",
     "iopub.status.busy": "2025-10-14T11:45:35.275433Z",
     "iopub.status.idle": "2025-10-14T11:45:35.427216Z",
     "shell.execute_reply": "2025-10-14T11:45:35.426671Z",
     "shell.execute_reply.started": "2025-10-14T11:45:35.276125Z"
    },
    "id": "ULIBta6CLt-5",
    "trusted": true
   },
   "outputs": [],
   "source": [
    "# comet_ml.login(api_key=COMET_API_KEY,project_name=\"football-object-detection-yolo11\")"
   ]
  },
  {
   "cell_type": "code",
   "execution_count": null,
   "metadata": {
    "execution": {
     "iopub.execute_input": "2025-10-14T11:46:13.617981Z",
     "iopub.status.busy": "2025-10-14T11:46:13.617686Z",
     "iopub.status.idle": "2025-10-14T11:48:23.584457Z",
     "shell.execute_reply": "2025-10-14T11:48:23.583422Z",
     "shell.execute_reply.started": "2025-10-14T11:46:13.617951Z"
    },
    "id": "iHVws8r6zYNG",
    "outputId": "3c547db7-fe4e-4999-db63-81663c5f56c2",
    "trusted": true
   },
   "outputs": [],
   "source": [
    "# Train the model with the half parameters unfrozen\n",
    "#yolo selects the gpu automatically so no need to sent onto gpu\n",
    "results = model.train(\n",
    "    data='/kaggle/input/football-players-detection-dataset/data.yaml',  # Path to the data configuration file\n",
    "    epochs=50,                  # Number of training epochs\n",
    "    imgsz=640,                  # Image size\n",
    "    batch=16,                   # Batch size\n",
    "    name='yolov11l_finetune',   # Name of the training run\n",
    "    project=\"football-object-detection-yolo11\",\n",
    "    save_json=True,\n",
    "    plots=True,\n",
    "    device=[0,1],\n",
    ")"
   ]
  },
  {
   "cell_type": "markdown",
   "metadata": {},
   "source": [
    "### I wanted to download my training output weights, so I converted into Zip"
   ]
  },
  {
   "cell_type": "code",
   "execution_count": null,
   "metadata": {
    "execution": {
     "iopub.execute_input": "2025-09-05T15:36:42.883905Z",
     "iopub.status.busy": "2025-09-05T15:36:42.883294Z",
     "iopub.status.idle": "2025-09-05T15:36:42.887250Z",
     "shell.execute_reply": "2025-09-05T15:36:42.886601Z",
     "shell.execute_reply.started": "2025-09-05T15:36:42.883882Z"
    },
    "trusted": true
   },
   "outputs": [],
   "source": [
    "nested_path = \"/kaggle/working/Saved_Model/\"\n",
    "os.mkdir(nested_path)"
   ]
  },
  {
   "cell_type": "code",
   "execution_count": null,
   "metadata": {
    "execution": {
     "iopub.execute_input": "2025-09-05T15:41:10.321211Z",
     "iopub.status.busy": "2025-09-05T15:41:10.320437Z",
     "iopub.status.idle": "2025-09-05T15:41:35.474312Z",
     "shell.execute_reply": "2025-09-05T15:41:35.473693Z",
     "shell.execute_reply.started": "2025-09-05T15:41:10.321185Z"
    },
    "trusted": true
   },
   "outputs": [],
   "source": [
    "\n",
    "onnxPath = model.export(format=\"onnx\")\n",
    "torchScript_path = model.export(format=\"torchscript\")\n",
    "\n",
    "print(f\"✅ Full model Checkpoints to {onnxPath}\")\n",
    "print(f\"✅ Full model Checkpoints to {torchScript_path}\")\n"
   ]
  },
  {
   "cell_type": "code",
   "execution_count": null,
   "metadata": {
    "execution": {
     "iopub.execute_input": "2025-09-05T15:43:01.173010Z",
     "iopub.status.busy": "2025-09-05T15:43:01.172264Z",
     "iopub.status.idle": "2025-09-05T15:43:16.771003Z",
     "shell.execute_reply": "2025-09-05T15:43:16.770113Z",
     "shell.execute_reply.started": "2025-09-05T15:43:01.172988Z"
    },
    "trusted": true
   },
   "outputs": [],
   "source": [
    "%cd /kaggle/working\n",
    "!zip -r model_saved.zip football-object-detection-yolo11/"
   ]
  },
  {
   "cell_type": "code",
   "execution_count": null,
   "metadata": {
    "execution": {
     "iopub.execute_input": "2025-09-05T15:43:48.479131Z",
     "iopub.status.busy": "2025-09-05T15:43:48.478736Z",
     "iopub.status.idle": "2025-09-05T15:43:48.484816Z",
     "shell.execute_reply": "2025-09-05T15:43:48.483990Z",
     "shell.execute_reply.started": "2025-09-05T15:43:48.479095Z"
    },
    "trusted": true
   },
   "outputs": [],
   "source": [
    "from IPython.display import FileLink\n",
    "FileLink(r'model_saved.zip')"
   ]
  },
  {
   "cell_type": "code",
   "execution_count": null,
   "metadata": {
    "trusted": true
   },
   "outputs": [],
   "source": []
  },
  {
   "cell_type": "code",
   "execution_count": null,
   "metadata": {},
   "outputs": [],
   "source": []
  }
 ],
 "metadata": {
  "accelerator": "GPU",
  "colab": {
   "gpuType": "T4",
   "provenance": []
  },
  "kaggle": {
   "accelerator": "nvidiaTeslaT4",
   "dataSources": [
    {
     "datasetId": 5033775,
     "sourceId": 8447562,
     "sourceType": "datasetVersion"
    },
    {
     "isSourceIdPinned": true,
     "modelId": 141350,
     "modelInstanceId": 118113,
     "sourceId": 139474,
     "sourceType": "modelInstanceVersion"
    }
   ],
   "dockerImageVersionId": 31011,
   "isGpuEnabled": true,
   "isInternetEnabled": true,
   "language": "python",
   "sourceType": "notebook"
  },
  "kernelspec": {
   "display_name": "football-object-detection-yolo11",
   "language": "python",
   "name": "python3"
  },
  "language_info": {
   "codemirror_mode": {
    "name": "ipython",
    "version": 3
   },
   "file_extension": ".py",
   "mimetype": "text/x-python",
   "name": "python",
   "nbconvert_exporter": "python",
   "pygments_lexer": "ipython3",
   "version": "3.12.9"
  }
 },
 "nbformat": 4,
 "nbformat_minor": 4
}
